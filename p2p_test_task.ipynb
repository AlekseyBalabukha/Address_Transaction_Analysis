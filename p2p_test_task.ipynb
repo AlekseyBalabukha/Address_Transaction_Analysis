{
  "cells": [
    {
      "cell_type": "markdown",
      "metadata": {
        "id": "2czbYN0Yl9WM"
      },
      "source": [
        "### Ethereum Wallet transactions analysis!\n",
        "In this project we will:\n",
        "- get data from Etherscan API\n",
        "- make required data transactions\n",
        "- visualize data using Tableau\n",
        "- analyze patterns\n",
        "- calculate the economic efficiency of financial strategy of ETH address."
      ]
    },
    {
      "cell_type": "markdown",
      "metadata": {
        "id": "TiRB5_4rL9oB"
      },
      "source": [
        "#### **Task**\n",
        "\n",
        "- Based on the history of transactions of ETH address: *0x99FD1378ca799ED6772Fe7bCDC9B30B389518962*, from Etherscan: *https://etherscan.io/address/0x99fd1378ca799ed6772fe7bcdc9b30b389518962*  \n",
        "- Analyze financial strategy of ETH address\n",
        "- We will describe data collection process\n",
        "- Transform data to help in analysis\n",
        "- Then we will make analysis using visualization in Tableau"
      ]
    },
    {
      "cell_type": "markdown",
      "metadata": {},
      "source": [
        "##### Data\n",
        "- There are 2 ways how we can get data from Etherscan:\n",
        "    - simply download csv file to take a look at the data from there, Etherscan allows to download 5000 transactions as csv  \n",
        "there are 7911 transactions in total for that account, therefore we will download 2 files:\n",
        "1.  very beginning - 2021-05-31\n",
        "2. 2021-06-01 - till today\n",
        "\n",
        "    - Or use Etherscan API (will be shown later)"
      ]
    },
    {
      "cell_type": "code",
      "execution_count": 1,
      "metadata": {},
      "outputs": [],
      "source": [
        "import pandas as pd\n",
        "import numpy as np\n",
        "\n",
        "from datetime import datetime"
      ]
    },
    {
      "cell_type": "code",
      "execution_count": 2,
      "metadata": {},
      "outputs": [],
      "source": [
        "df_1 = pd.read_csv('./data/user_data_1.csv')\n",
        "df_2 = pd.read_csv('./data/user_data_2.csv')"
      ]
    },
    {
      "cell_type": "code",
      "execution_count": 3,
      "metadata": {},
      "outputs": [
        {
          "name": "stdout",
          "output_type": "stream",
          "text": [
            "number of rows in first part of data: 4125\n",
            "number of rows in second part of data: 3788\n",
            "total number of rows 7913\n"
          ]
        }
      ],
      "source": [
        "number_rows_1 = len(df_1)\n",
        "print(f'number of rows in first part of data: {number_rows_1}')\n",
        "\n",
        "number_rows_2 = len(df_2)\n",
        "print(f'number of rows in second part of data: {number_rows_2}')\n",
        "\n",
        "df_csv = pd.concat([df_1, df_2]).reset_index(drop=True)\n",
        "total_number_rows = len(df_csv)\n",
        "print(f'total number of rows {total_number_rows}')"
      ]
    },
    {
      "cell_type": "markdown",
      "metadata": {},
      "source": [
        "Get data from API:"
      ]
    },
    {
      "cell_type": "code",
      "execution_count": 12,
      "metadata": {},
      "outputs": [],
      "source": [
        "import requests\n",
        "import certifi\n",
        "\n",
        "import os\n",
        "from dotenv import load_dotenv\n",
        "load_dotenv()\n",
        "access_token = os.getenv('MY_ACCESS_TOKEN')"
      ]
    },
    {
      "cell_type": "code",
      "execution_count": 14,
      "metadata": {},
      "outputs": [],
      "source": [
        "#Get a list of 'Normal' Transactions By Address\n",
        "address = '0x99FD1378ca799ED6772Fe7bCDC9B30B389518962'\n",
        "number_of_transactions = 10000\n",
        "\n",
        "url = \"https://api.etherscan.io/api\" + \\\n",
        "      \"?module=account\" + \\\n",
        "      \"&action=txlist\" + \\\n",
        "      \"&address=\" + address + \\\n",
        "      \"&startblock=0\" + \\\n",
        "      \"&endblock=9999999999999999\" + \\\n",
        "      \"&page=1\" + \\\n",
        "      \"&offset=\" + str(number_of_transactions) + \\\n",
        "      \"&sort=asc\" + \\\n",
        "      \"&apikey=\" + access_token\n",
        "\n",
        "response = requests.get(url, verify=certifi.where())\n",
        "address_content = response.json()"
      ]
    },
    {
      "cell_type": "code",
      "execution_count": 15,
      "metadata": {},
      "outputs": [
        {
          "name": "stdout",
          "output_type": "stream",
          "text": [
            "number of rows from API request: 8239\n"
          ]
        }
      ],
      "source": [
        "number_of_rows_from_API = len(address_content['result'])\n",
        "print(f'number of rows from API request: {number_of_rows_from_API}')"
      ]
    },
    {
      "cell_type": "markdown",
      "metadata": {},
      "source": [
        "We get the same number of rows, therefore we can use either data set, for now we will use dataset from CSV file downloaded from Etherscan, since it has adopted data (datetime columns and methods) and we do not have to merge it (methods) from other requests, but we obviously Can :)   \n",
        " \n",
        "on the current stage we fixed amount of data"
      ]
    },
    {
      "cell_type": "code",
      "execution_count": 16,
      "metadata": {},
      "outputs": [
        {
          "data": {
            "text/plain": [
              "Index(['Txhash', 'Blockno', 'UnixTimestamp', 'DateTime', 'From', 'To',\n",
              "       'ContractAddress', 'Value_IN(ETH)', 'Value_OUT(ETH)',\n",
              "       'CurrentValue @ $1084.99/Eth', 'TxnFee(ETH)', 'TxnFee(USD)',\n",
              "       'Historical $Price/Eth', 'Status', 'ErrCode', 'Method', 'empty',\n",
              "       'CurrentValue @ $1103.42/Eth'],\n",
              "      dtype='object')"
            ]
          },
          "execution_count": 16,
          "metadata": {},
          "output_type": "execute_result"
        }
      ],
      "source": [
        "df_csv.columns"
      ]
    },
    {
      "cell_type": "markdown",
      "metadata": {},
      "source": [
        "#### Columns description:\n",
        "- Txhash - Transaction Hash: A unique identifier that can be used to locate a specific transaction\n",
        "- Blockno - Block: The block number that the transaction was included in.\n",
        "- UnixTimestamp - Timestamp: The time that the block was mined in UTC.\n",
        "- DateTime - date and time of transaction  \n",
        "- From - From: The account that originally sent the transaction.   \n",
        "- To - To: The account that the transaction is addressed to.  \n",
        "- ContractAddress - ?  \n",
        "- Value_IN(ETH) - amount of ETH that transfered to the account of interest (\"user_1\")  \n",
        "- Value_OUT(ETH) - amount of ETH that tranfered from the account of interest (\"user_1\")  \n",
        "- CurrentValue @ $1098.81/Eth - Value of transaction in USD according to the current price  \n",
        "- TxnFee(ETH) - Transaction Fee: The amount of Ether paid to the miner for processing the transaction, which is calculated by multiplying the amount of gas used by the gas price.  \n",
        "- TxnFee(USD) - transaction fee in USD  \n",
        "- Historical $Price/Eth - Price of USD/ETH price at the moment of transaction  \n",
        "- Status - Status: The current state of a transaction (Success, Failed, or Pending).  \n",
        "- ErrCode - code of error\n",
        "- Method - type of transaction"
      ]
    },
    {
      "cell_type": "code",
      "execution_count": 17,
      "metadata": {},
      "outputs": [],
      "source": [
        "# fix: columns Change error_code and status:\n",
        "\n",
        "# new column \"error_code\":\n",
        "df_csv['error_code'] = df_csv['Status']\n",
        "# new column 'status':\n",
        "df_csv['status'] = df_csv['ErrCode']\n",
        "\n",
        "# drop old columns:\n",
        "df_csv = df_csv.drop(columns=['ErrCode', 'Status', 'empty'])"
      ]
    },
    {
      "cell_type": "code",
      "execution_count": 18,
      "metadata": {},
      "outputs": [],
      "source": [
        "user_1 = '0x99fd1378ca799ed6772fe7bcdc9b30b389518962'"
      ]
    },
    {
      "cell_type": "code",
      "execution_count": 19,
      "metadata": {},
      "outputs": [
        {
          "data": {
            "text/plain": [
              "Index(['Txhash', 'Blockno', 'UnixTimestamp', 'DateTime', 'From', 'To',\n",
              "       'ContractAddress', 'Value_IN(ETH)', 'Value_OUT(ETH)',\n",
              "       'CurrentValue @ $1084.99/Eth', 'TxnFee(ETH)', 'TxnFee(USD)',\n",
              "       'Historical $Price/Eth', 'Method', 'CurrentValue @ $1103.42/Eth',\n",
              "       'error_code', 'status'],\n",
              "      dtype='object')"
            ]
          },
          "execution_count": 19,
          "metadata": {},
          "output_type": "execute_result"
        }
      ],
      "source": [
        "df_csv.columns"
      ]
    },
    {
      "cell_type": "markdown",
      "metadata": {},
      "source": [
        "Some values in column Method does not look like Types of transactions,  \n",
        "they look more like error code,  \n",
        "- so we change values in such rows to 'error' in Method column\n",
        "- and store values of this errors in error_code column  \n",
        "- we will lost Error(0) code in error_code column (we could keep it, but it will not affect the analysis, since it is 100% the same as \"Reverted\" status)"
      ]
    },
    {
      "cell_type": "code",
      "execution_count": 20,
      "metadata": {},
      "outputs": [],
      "source": [
        "# function to fill error_code column:\n",
        "def check_error_code(value):\n",
        "    result = np.nan\n",
        "    if value[0:2] == '0x': # return error codes\n",
        "        result = value\n",
        "    return result\n",
        "\n",
        "# function to fill Method column\n",
        "def check_method(value):\n",
        "    result = np.nan\n",
        "    if value[0:2] != '0x': # return only methods\n",
        "        result = value\n",
        "    return result\n",
        "\n",
        "\n",
        "# apply to error_code column:\n",
        "df_csv['error_code'] = df_csv['Method'].apply(lambda x: check_error_code(x))\n",
        "# apply to method column:\n",
        "df_csv['Method'] = df_csv['Method'].apply(lambda x: check_method(x))"
      ]
    },
    {
      "cell_type": "code",
      "execution_count": 21,
      "metadata": {},
      "outputs": [
        {
          "name": "stdout",
          "output_type": "stream",
          "text": [
            "total number of rows in dataset: 7913\n",
            "rows where user_1 is sender: 7546, which is 95.36%\n",
            "rows where user_1 receives: 334, which is 4.22%\n",
            "number of rows where user_1 is receiver and sender simultaneously: 33, which is 0.42%\n",
            "\n",
            "Check: sum rows and send rows receive: 7913, sum of percentage: 100.0 %\n"
          ]
        }
      ],
      "source": [
        "total_n_rows = len(df_csv)\n",
        "print(f'total number of rows in dataset: {len(df_csv)}')\n",
        "\n",
        "rows_n_user_1_sender = len(df_csv[(df_csv['From'] == user_1) & (df_csv['To'] != user_1)] ) # only sender not receiver\n",
        "share_sender = round(rows_n_user_1_sender / total_n_rows * 100, 2)\n",
        "print(f'rows where user_1 is sender: {rows_n_user_1_sender}, which is {share_sender}%')\n",
        "\n",
        "rows_n_user_1_receiver = len(df_csv[(df_csv['To'] == user_1) & (df_csv['From'] != user_1)]) # only receiver not sender\n",
        "share_receiver = round(rows_n_user_1_receiver / total_n_rows * 100, 2)\n",
        "print(f'rows where user_1 receives: {rows_n_user_1_receiver}, which is {share_receiver}%')\n",
        "\n",
        "rows_n_receiver_and_sender = len(df_csv[(df_csv['From'] == user_1) & (df_csv['To'] == user_1)])\n",
        "share_send_receive_sim = round( rows_n_receiver_and_sender / total_n_rows * 100, 2  )\n",
        "print(f'number of rows where user_1 is receiver and sender simultaneously: {rows_n_receiver_and_sender}, which is {share_send_receive_sim}%')\n",
        "\n",
        "check_sum = rows_n_user_1_receiver + rows_n_user_1_sender + rows_n_receiver_and_sender\n",
        "check_sum_percentage = share_sender + share_receiver + share_send_receive_sim\n",
        "print()\n",
        "print(f'Check: sum rows and send rows receive: {check_sum}, sum of percentage: {check_sum_percentage} %')"
      ]
    },
    {
      "cell_type": "markdown",
      "metadata": {},
      "source": [
        "##### Values in USD\n",
        "Now, let us calculate Actual Values of Transactions in USD, to do that we will convert ETH to USD based on historical Exchage rate"
      ]
    },
    {
      "cell_type": "markdown",
      "metadata": {},
      "source": [
        "but before, find how many Rate values are Empty:"
      ]
    },
    {
      "cell_type": "markdown",
      "metadata": {},
      "source": [
        "If there would be any rows with empty Historical data, it could occur in transaction of current date, for that cases, fill such cells with current price"
      ]
    },
    {
      "cell_type": "code",
      "execution_count": 22,
      "metadata": {},
      "outputs": [
        {
          "name": "stdout",
          "output_type": "stream",
          "text": [
            "current price: 1084.99 usd/eth\n"
          ]
        }
      ],
      "source": [
        "# fill empty price history as current price\n",
        "current_price = float(df_csv.columns[9][16:23])\n",
        "df_csv.loc[df_csv['Historical $Price/Eth'].isna(), 'Historical $Price/Eth'] = current_price\n",
        "print(f'current price: {current_price} usd/eth')"
      ]
    },
    {
      "cell_type": "code",
      "execution_count": 23,
      "metadata": {},
      "outputs": [],
      "source": [
        "# create calculated fields Actual amount in USD:\n",
        "df_csv['Value_IN(USD)'] = df_csv['Value_IN(ETH)'] * df_csv['Historical $Price/Eth']\n",
        "df_csv['Value_OUT(USD)'] = df_csv['Value_OUT(ETH)'] * df_csv['Historical $Price/Eth']"
      ]
    },
    {
      "cell_type": "markdown",
      "metadata": {},
      "source": [
        "Look at totals: (we consider rows where address is receiver and sender simultaneously twice, in 2 cases it is big values, so we should be aware of that, so we will not consider those rows, since they influence only by Transaction fee on balance)"
      ]
    },
    {
      "cell_type": "markdown",
      "metadata": {},
      "source": [
        "! It is important to note that here we did not filtered Reverted transactions, since they do not have too much influence on the total picutre, but it is important to remember  \n",
        "we will filter such transactions in Tableau later"
      ]
    },
    {
      "cell_type": "code",
      "execution_count": 24,
      "metadata": {},
      "outputs": [
        {
          "name": "stdout",
          "output_type": "stream",
          "text": [
            "Total IN = 167320.61 ETH, Total OUT = 1337997.03 ETH, Total Margin = -1170676.42 ETH\n"
          ]
        }
      ],
      "source": [
        "df_send = df_csv[(df_csv['From'] == user_1) & (df_csv['To'] != user_1)]\n",
        "df_receive = df_csv[(df_csv['To'] == user_1) & (df_csv['From'] != user_1)]\n",
        "\n",
        "sum_value_in = round(df_receive['Value_IN(ETH)'].sum(), 2)\n",
        "sum_value_out = round(df_send['Value_OUT(ETH)'].sum(), 2)\n",
        "margin_total = sum_value_in - sum_value_out\n",
        "\n",
        "print(f'Total IN = {sum_value_in} ETH, Total OUT = {sum_value_out} ETH, Total Margin = {margin_total} ETH')"
      ]
    },
    {
      "cell_type": "markdown",
      "metadata": {},
      "source": [
        "by looking at the amount of ETH, it may seem like Outflow is greater then Inflow  \n",
        "let's look at the amount in USD:"
      ]
    },
    {
      "cell_type": "code",
      "execution_count": 23,
      "metadata": {},
      "outputs": [
        {
          "name": "stdout",
          "output_type": "stream",
          "text": [
            "Total IN = 469072264.94 USD, Total OUT = 3091814686.31 USD, Total Margin = -2622742421.37 USD\n"
          ]
        }
      ],
      "source": [
        "sum_value_in = round(df_receive['Value_IN(USD)'].sum(), 2)\n",
        "sum_value_out = round(df_send['Value_OUT(USD)'].sum(), 2)\n",
        "margin_total = sum_value_in - sum_value_out\n",
        "\n",
        "print(f'Total IN = {sum_value_in} USD, Total OUT = {sum_value_out} USD, Total Margin = {margin_total} USD')"
      ]
    },
    {
      "cell_type": "markdown",
      "metadata": {},
      "source": [
        "Margin is also negative here  \n",
        "For me it looks strange, since if we had all transactions, we would expect only 0 balance and not negative (in ETH), and we could expect negative balance in USD due to change Exchange rate, also, we did not consider transaction fees yet and they would have big effect on balance since transaction fees are high in Ethereum network"
      ]
    },
    {
      "cell_type": "markdown",
      "metadata": {},
      "source": [
        "therefore, using Etherscan API, let's get Current Balance of the Address to check our results:"
      ]
    },
    {
      "cell_type": "code",
      "execution_count": 24,
      "metadata": {},
      "outputs": [],
      "source": [
        "#Get Ether Balance for a Single Address\n",
        "addess = '0x99FD1378ca799ED6772Fe7bCDC9B30B389518962'\n",
        "\n",
        "url = \"https://api.etherscan.io/api\" + \\\n",
        "      \"?module=account\" + \\\n",
        "      \"&action=balance\" + \\\n",
        "      \"&address=\" + addess + \\\n",
        "      \"&tag=latest\" + \\\n",
        "      \"&apikey=\" + access_token\n",
        "\n",
        "response = requests.get(url, verify=certifi.where())\n",
        "latest_balance_data = response.json()"
      ]
    },
    {
      "cell_type": "code",
      "execution_count": 25,
      "metadata": {},
      "outputs": [
        {
          "name": "stdout",
          "output_type": "stream",
          "text": [
            "latest balance of user_1 address = 538.914 ETH\n"
          ]
        }
      ],
      "source": [
        "# 18 - is number of decimals (because ehtereum network does not work with decimals, all values are in Wei)\n",
        "latest_balance = float(latest_balance_data['result']) / 10**18 \n",
        "print(f'latest balance of user_1 address = {round(latest_balance, 3)} ETH')"
      ]
    },
    {
      "cell_type": "markdown",
      "metadata": {},
      "source": [
        "Therefore, we can see that the Actual Ether balance is positive in the Address, therefore there are some data that we miss in the consideration"
      ]
    },
    {
      "cell_type": "markdown",
      "metadata": {},
      "source": [
        "Lets take a look also on the earliest balance:"
      ]
    },
    {
      "cell_type": "code",
      "execution_count": 26,
      "metadata": {},
      "outputs": [],
      "source": [
        "#Get Ether Balance for a Single Address\n",
        "addess = '0x99FD1378ca799ED6772Fe7bCDC9B30B389518962'\n",
        "\n",
        "url = \"https://api.etherscan.io/api\" + \\\n",
        "      \"?module=account\" + \\\n",
        "      \"&action=balance\" + \\\n",
        "      \"&address=\" + addess + \\\n",
        "      \"&tag=earliest\" + \\\n",
        "      \"&apikey=\" + access_token\n",
        "\n",
        "response = requests.get(url, verify=certifi.where())\n",
        "earliest_balance_data = response.json()"
      ]
    },
    {
      "cell_type": "code",
      "execution_count": 27,
      "metadata": {},
      "outputs": [
        {
          "name": "stdout",
          "output_type": "stream",
          "text": [
            "earliest balance of user_1 address = 538.914 ETH\n"
          ]
        }
      ],
      "source": [
        "earliest_balance = float(earliest_balance_data['result']) / 10**18 \n",
        "print(f'earliest balance of user_1 address = {round(earliest_balance, 3)} ETH')"
      ]
    },
    {
      "cell_type": "markdown",
      "metadata": {},
      "source": [
        "Greate! we can see that the very first balance was 0, which is logical"
      ]
    },
    {
      "cell_type": "markdown",
      "metadata": {},
      "source": [
        "Our task is to understand the financial stategy of the Address"
      ]
    },
    {
      "cell_type": "code",
      "execution_count": 28,
      "metadata": {},
      "outputs": [],
      "source": [
        "# save data for analysis\n",
        "df_csv.to_csv('./data/data_csv.csv', sep=',')"
      ]
    },
    {
      "cell_type": "code",
      "execution_count": 29,
      "metadata": {},
      "outputs": [
        {
          "data": {
            "text/plain": [
              "Index(['Txhash', 'Blockno', 'UnixTimestamp', 'DateTime', 'From', 'To',\n",
              "       'ContractAddress', 'Value_IN(ETH)', 'Value_OUT(ETH)',\n",
              "       'CurrentValue @ $1084.99/Eth', 'TxnFee(ETH)', 'TxnFee(USD)',\n",
              "       'Historical $Price/Eth', 'Method', 'CurrentValue @ $1103.42/Eth',\n",
              "       'error_code', 'status', 'Value_IN(USD)', 'Value_OUT(USD)'],\n",
              "      dtype='object')"
            ]
          },
          "execution_count": 29,
          "metadata": {},
          "output_type": "execute_result"
        }
      ],
      "source": [
        "df_csv.columns"
      ]
    },
    {
      "cell_type": "markdown",
      "metadata": {},
      "source": [
        "### General statistics"
      ]
    },
    {
      "cell_type": "markdown",
      "metadata": {},
      "source": [
        "Lets find out with how many different account User_1 have transactions:"
      ]
    },
    {
      "cell_type": "code",
      "execution_count": 30,
      "metadata": {},
      "outputs": [
        {
          "name": "stdout",
          "output_type": "stream",
          "text": [
            "number of unique addresses which send transactions to user: 54\n",
            "number of unique transactions to which user send transactions: 396\n",
            "\n",
            "number of all unique addresses: 444\n",
            "number of accounts that were in both senders and receivers: 6\n"
          ]
        }
      ],
      "source": [
        "from_addresses = list(df_csv['From'].unique())\n",
        "from_addresses_len = len(from_addresses)\n",
        "\n",
        "to_addresses = list(df_csv['To'].unique())\n",
        "to_addresses_len = len(to_addresses)\n",
        "\n",
        "all_addresses = from_addresses.copy()\n",
        "# check is address is not in list, add to have all contracts:\n",
        "for address in to_addresses:\n",
        "    if address not in all_addresses:\n",
        "        all_addresses.append(address)\n",
        "    \n",
        "all_addresses_len = len(all_addresses)\n",
        "\n",
        "print(f'number of unique addresses which send transactions to user: {from_addresses_len}')\n",
        "print(f'number of unique transactions to which user send transactions: {to_addresses_len}')\n",
        "\n",
        "print()\n",
        "print(f'number of all unique addresses: {all_addresses_len}')\n",
        "print(f'number of accounts that were in both senders and receivers: {from_addresses_len+to_addresses_len-all_addresses_len}')"
      ]
    },
    {
      "cell_type": "code",
      "execution_count": 31,
      "metadata": {},
      "outputs": [
        {
          "data": {
            "text/html": [
              "<div>\n",
              "<style scoped>\n",
              "    .dataframe tbody tr th:only-of-type {\n",
              "        vertical-align: middle;\n",
              "    }\n",
              "\n",
              "    .dataframe tbody tr th {\n",
              "        vertical-align: top;\n",
              "    }\n",
              "\n",
              "    .dataframe thead th {\n",
              "        text-align: right;\n",
              "    }\n",
              "</style>\n",
              "<table border=\"1\" class=\"dataframe\">\n",
              "  <thead>\n",
              "    <tr style=\"text-align: right;\">\n",
              "      <th></th>\n",
              "      <th>address sender to user_1</th>\n",
              "      <th>sum_value(ETH)</th>\n",
              "      <th>number of transactions</th>\n",
              "    </tr>\n",
              "  </thead>\n",
              "  <tbody>\n",
              "    <tr>\n",
              "      <th>44</th>\n",
              "      <td>0xc098b2a3aa256d2140208c3de6543aaef5cd3a94</td>\n",
              "      <td>88839.387199</td>\n",
              "      <td>103</td>\n",
              "    </tr>\n",
              "    <tr>\n",
              "      <th>11</th>\n",
              "      <td>0x2a67035357c3045438f3a92e46870a9e48e5aab7</td>\n",
              "      <td>39566.761902</td>\n",
              "      <td>90</td>\n",
              "    </tr>\n",
              "    <tr>\n",
              "      <th>23</th>\n",
              "      <td>0x58f56615180a8eea4c462235d9e215f72484b4a3</td>\n",
              "      <td>16010.861660</td>\n",
              "      <td>7</td>\n",
              "    </tr>\n",
              "    <tr>\n",
              "      <th>38</th>\n",
              "      <td>0x937cdc9e86ba06aa5aaea221017a1d9fc7f59efd</td>\n",
              "      <td>10269.950000</td>\n",
              "      <td>41</td>\n",
              "    </tr>\n",
              "    <tr>\n",
              "      <th>42</th>\n",
              "      <td>0xab07bf2548bc22b9211469a11d09f83d26611d72</td>\n",
              "      <td>4544.608387</td>\n",
              "      <td>3</td>\n",
              "    </tr>\n",
              "    <tr>\n",
              "      <th>46</th>\n",
              "      <td>0xc333e80ef2dec2805f239e3f1e810612d294f771</td>\n",
              "      <td>1353.591500</td>\n",
              "      <td>8</td>\n",
              "    </tr>\n",
              "    <tr>\n",
              "      <th>18</th>\n",
              "      <td>0x3f5ce5fbfe3e9af3971dd833d26ba9b5c936f0be</td>\n",
              "      <td>1149.774050</td>\n",
              "      <td>1</td>\n",
              "    </tr>\n",
              "    <tr>\n",
              "      <th>17</th>\n",
              "      <td>0x3bf57ca56baba3bc357e055bcce48565d95a6906</td>\n",
              "      <td>1063.094002</td>\n",
              "      <td>1</td>\n",
              "    </tr>\n",
              "    <tr>\n",
              "      <th>33</th>\n",
              "      <td>0x7dac3ea4b99b15ec53cfa0f37510dd828b27895d</td>\n",
              "      <td>849.998577</td>\n",
              "      <td>1</td>\n",
              "    </tr>\n",
              "    <tr>\n",
              "      <th>27</th>\n",
              "      <td>0x679c686b4b6934007aeb54b3dfc4a59d52b4ee39</td>\n",
              "      <td>699.997995</td>\n",
              "      <td>1</td>\n",
              "    </tr>\n",
              "  </tbody>\n",
              "</table>\n",
              "</div>"
            ],
            "text/plain": [
              "                      address sender to user_1  sum_value(ETH)  \\\n",
              "44  0xc098b2a3aa256d2140208c3de6543aaef5cd3a94    88839.387199   \n",
              "11  0x2a67035357c3045438f3a92e46870a9e48e5aab7    39566.761902   \n",
              "23  0x58f56615180a8eea4c462235d9e215f72484b4a3    16010.861660   \n",
              "38  0x937cdc9e86ba06aa5aaea221017a1d9fc7f59efd    10269.950000   \n",
              "42  0xab07bf2548bc22b9211469a11d09f83d26611d72     4544.608387   \n",
              "46  0xc333e80ef2dec2805f239e3f1e810612d294f771     1353.591500   \n",
              "18  0x3f5ce5fbfe3e9af3971dd833d26ba9b5c936f0be     1149.774050   \n",
              "17  0x3bf57ca56baba3bc357e055bcce48565d95a6906     1063.094002   \n",
              "33  0x7dac3ea4b99b15ec53cfa0f37510dd828b27895d      849.998577   \n",
              "27  0x679c686b4b6934007aeb54b3dfc4a59d52b4ee39      699.997995   \n",
              "\n",
              "    number of transactions  \n",
              "44                     103  \n",
              "11                      90  \n",
              "23                       7  \n",
              "38                      41  \n",
              "42                       3  \n",
              "46                       8  \n",
              "18                       1  \n",
              "17                       1  \n",
              "33                       1  \n",
              "27                       1  "
            ]
          },
          "execution_count": 31,
          "metadata": {},
          "output_type": "execute_result"
        }
      ],
      "source": [
        "df_groupping = df_csv.groupby(['From'], as_index=False).agg({\n",
        "    'Value_IN(ETH)': sum,\n",
        "    'Txhash': 'count'\n",
        "}).sort_values(by='Value_IN(ETH)', ascending=False).head(10)\n",
        "df_groupping.columns = ['address sender to user_1', 'sum_value(ETH)', 'number of transactions']\n",
        "df_groupping"
      ]
    },
    {
      "cell_type": "markdown",
      "metadata": {},
      "source": [
        "these are to 10 accounts that sent ETH to User_1"
      ]
    },
    {
      "cell_type": "code",
      "execution_count": 32,
      "metadata": {},
      "outputs": [
        {
          "data": {
            "text/html": [
              "<div>\n",
              "<style scoped>\n",
              "    .dataframe tbody tr th:only-of-type {\n",
              "        vertical-align: middle;\n",
              "    }\n",
              "\n",
              "    .dataframe tbody tr th {\n",
              "        vertical-align: top;\n",
              "    }\n",
              "\n",
              "    .dataframe thead th {\n",
              "        text-align: right;\n",
              "    }\n",
              "</style>\n",
              "<table border=\"1\" class=\"dataframe\">\n",
              "  <thead>\n",
              "    <tr style=\"text-align: right;\">\n",
              "      <th></th>\n",
              "      <th>address receiver from user_1</th>\n",
              "      <th>sum_value(ETH)</th>\n",
              "      <th>number of transactions</th>\n",
              "    </tr>\n",
              "  </thead>\n",
              "  <tbody>\n",
              "    <tr>\n",
              "      <th>383</th>\n",
              "      <td>0xf859a1ad94bcf445a406b892ef0d3082f4174088</td>\n",
              "      <td>309054.265255</td>\n",
              "      <td>95</td>\n",
              "    </tr>\n",
              "    <tr>\n",
              "      <th>131</th>\n",
              "      <td>0x4ddc2d193948926d02f9b1fe9e1daa0718270ed5</td>\n",
              "      <td>258423.164458</td>\n",
              "      <td>325</td>\n",
              "    </tr>\n",
              "    <tr>\n",
              "      <th>175</th>\n",
              "      <td>0x67b66c99d3eb37fa76aa3ed1ff33e8e39f0b9c7a</td>\n",
              "      <td>238042.027574</td>\n",
              "      <td>70</td>\n",
              "    </tr>\n",
              "    <tr>\n",
              "      <th>232</th>\n",
              "      <td>0x92be6adb6a12da0ca607f9d87db2f9978cd6ec3e</td>\n",
              "      <td>153420.015707</td>\n",
              "      <td>76</td>\n",
              "    </tr>\n",
              "    <tr>\n",
              "      <th>354</th>\n",
              "      <td>0xdc24316b9ae028f1497c275eb9192a3ea0f67022</td>\n",
              "      <td>141689.241265</td>\n",
              "      <td>28</td>\n",
              "    </tr>\n",
              "    <tr>\n",
              "      <th>1</th>\n",
              "      <td>0x0074aa8dacc40ad79b12e5239a6fe6684fc876e9</td>\n",
              "      <td>68550.000000</td>\n",
              "      <td>37</td>\n",
              "    </tr>\n",
              "    <tr>\n",
              "      <th>235</th>\n",
              "      <td>0x937cdc9e86ba06aa5aaea221017a1d9fc7f59efd</td>\n",
              "      <td>44427.158799</td>\n",
              "      <td>36</td>\n",
              "    </tr>\n",
              "    <tr>\n",
              "      <th>372</th>\n",
              "      <td>0xeea3311250fe4c3268f8e684f7c87a82ff183ec1</td>\n",
              "      <td>20440.618597</td>\n",
              "      <td>8</td>\n",
              "    </tr>\n",
              "    <tr>\n",
              "      <th>395</th>\n",
              "      <td>0xff590dc002e305852179af8e3184d2f640c8362e</td>\n",
              "      <td>20000.000000</td>\n",
              "      <td>3</td>\n",
              "    </tr>\n",
              "    <tr>\n",
              "      <th>331</th>\n",
              "      <td>0xcc9a0b7c43dc2a5f023bb9b738e45b0ef6b06e04</td>\n",
              "      <td>17904.182312</td>\n",
              "      <td>4</td>\n",
              "    </tr>\n",
              "  </tbody>\n",
              "</table>\n",
              "</div>"
            ],
            "text/plain": [
              "                   address receiver from user_1  sum_value(ETH)  \\\n",
              "383  0xf859a1ad94bcf445a406b892ef0d3082f4174088   309054.265255   \n",
              "131  0x4ddc2d193948926d02f9b1fe9e1daa0718270ed5   258423.164458   \n",
              "175  0x67b66c99d3eb37fa76aa3ed1ff33e8e39f0b9c7a   238042.027574   \n",
              "232  0x92be6adb6a12da0ca607f9d87db2f9978cd6ec3e   153420.015707   \n",
              "354  0xdc24316b9ae028f1497c275eb9192a3ea0f67022   141689.241265   \n",
              "1    0x0074aa8dacc40ad79b12e5239a6fe6684fc876e9    68550.000000   \n",
              "235  0x937cdc9e86ba06aa5aaea221017a1d9fc7f59efd    44427.158799   \n",
              "372  0xeea3311250fe4c3268f8e684f7c87a82ff183ec1    20440.618597   \n",
              "395  0xff590dc002e305852179af8e3184d2f640c8362e    20000.000000   \n",
              "331  0xcc9a0b7c43dc2a5f023bb9b738e45b0ef6b06e04    17904.182312   \n",
              "\n",
              "     number of transactions  \n",
              "383                      95  \n",
              "131                     325  \n",
              "175                      70  \n",
              "232                      76  \n",
              "354                      28  \n",
              "1                        37  \n",
              "235                      36  \n",
              "372                       8  \n",
              "395                       3  \n",
              "331                       4  "
            ]
          },
          "execution_count": 32,
          "metadata": {},
          "output_type": "execute_result"
        }
      ],
      "source": [
        "df_groupping =  df_csv.groupby(['To'], as_index=False).agg({\n",
        "    'Value_OUT(ETH)': sum,\n",
        "    'Txhash': 'count'\n",
        "}).sort_values(by='Value_OUT(ETH)', ascending=False).head(10)\n",
        "df_groupping.columns = ['address receiver from user_1', 'sum_value(ETH)', 'number of transactions']\n",
        "df_groupping"
      ]
    },
    {
      "cell_type": "markdown",
      "metadata": {},
      "source": [
        "And these are top 10 addresses that User_1 sent ETH to"
      ]
    },
    {
      "cell_type": "markdown",
      "metadata": {},
      "source": [
        "# Tableau  \n",
        "[link_to_dashboard](https://public.tableau.com/app/profile/aleksei5255/viz/Transaction_Analytics_Ethrerscan/AddressAnalytics)"
      ]
    },
    {
      "cell_type": "markdown",
      "metadata": {},
      "source": [
        "Let's look at the dynamics of ETH Flow:"
      ]
    },
    {
      "cell_type": "markdown",
      "metadata": {},
      "source": [
        "![](./pic/ETH_flow.png)"
      ]
    },
    {
      "cell_type": "markdown",
      "metadata": {},
      "source": [
        "Aggregating by month we can see that the Ouflow cashflow is indeed much higher for the address\n"
      ]
    },
    {
      "cell_type": "markdown",
      "metadata": {},
      "source": [
        "Let's now take a look at the Balance history of the Address balance:"
      ]
    },
    {
      "cell_type": "markdown",
      "metadata": {},
      "source": [
        "![](./pic/ehterscan_balance_graph.png)"
      ]
    },
    {
      "cell_type": "markdown",
      "metadata": {},
      "source": [
        "we can see that the balance is usually small, except some points highs (top at more then 3 000 ETH!), it means that the address user probably invests in some assets and actively trade, so there is no free ETH on the balance, only small (in time) peaks when balance is high, probably due to transferring assets from one place to another or Swap (trade)"
      ]
    },
    {
      "cell_type": "markdown",
      "metadata": {},
      "source": [
        "# Data Consistency!"
      ]
    },
    {
      "cell_type": "markdown",
      "metadata": {},
      "source": [
        "To locate the causes of differences in data, let's look at the Tansactions in January of 2021:"
      ]
    },
    {
      "cell_type": "markdown",
      "metadata": {},
      "source": [
        "By looking at transactions, we see negative outflow, but Etherscan does not show that"
      ]
    },
    {
      "cell_type": "markdown",
      "metadata": {},
      "source": [
        "Transactions by day:  \n"
      ]
    },
    {
      "cell_type": "code",
      "execution_count": 37,
      "metadata": {},
      "outputs": [],
      "source": [
        "df_jan_21 = pd.read_csv('./data/test/jan_2021.csv')"
      ]
    },
    {
      "cell_type": "code",
      "execution_count": 38,
      "metadata": {},
      "outputs": [],
      "source": [
        "df_jan_nozero = df_jan_21[(df_jan_21['Value_IN(ETH)'] != 0) | (df_jan_21['Value_OUT(ETH)'] != 0)]\n",
        "df_jan_nozero = df_jan_nozero.reset_index(drop=True)\n",
        "df_jan_nozero['DateTime'] = pd.to_datetime(df_jan_nozero['DateTime'])\n",
        "df_jan_nozero['Day'] = df_jan_nozero['DateTime'].dt.day\n",
        "df_jan_nozero['Month'] = df_jan_nozero['DateTime'].dt.month\n",
        "df_jan_nozero['Year'] = df_jan_nozero['DateTime'].dt.year"
      ]
    },
    {
      "cell_type": "code",
      "execution_count": 39,
      "metadata": {},
      "outputs": [],
      "source": [
        "df_check_sum = df_jan_nozero.groupby(['Year', 'Month', 'Day'], as_index=False).agg({\n",
        "    'Value_IN(ETH)': sum,\n",
        "    'Value_OUT(ETH)': sum\n",
        "})\n",
        "df_check_sum['Diff'] = df_check_sum['Value_IN(ETH)'] - df_check_sum['Value_OUT(ETH)']"
      ]
    },
    {
      "cell_type": "code",
      "execution_count": 40,
      "metadata": {},
      "outputs": [
        {
          "data": {
            "text/html": [
              "<div>\n",
              "<style scoped>\n",
              "    .dataframe tbody tr th:only-of-type {\n",
              "        vertical-align: middle;\n",
              "    }\n",
              "\n",
              "    .dataframe tbody tr th {\n",
              "        vertical-align: top;\n",
              "    }\n",
              "\n",
              "    .dataframe thead th {\n",
              "        text-align: right;\n",
              "    }\n",
              "</style>\n",
              "<table border=\"1\" class=\"dataframe\">\n",
              "  <thead>\n",
              "    <tr style=\"text-align: right;\">\n",
              "      <th></th>\n",
              "      <th>Year</th>\n",
              "      <th>Month</th>\n",
              "      <th>Day</th>\n",
              "      <th>Value_IN(ETH)</th>\n",
              "      <th>Value_OUT(ETH)</th>\n",
              "      <th>Diff</th>\n",
              "    </tr>\n",
              "  </thead>\n",
              "  <tbody>\n",
              "    <tr>\n",
              "      <th>0</th>\n",
              "      <td>2021</td>\n",
              "      <td>1</td>\n",
              "      <td>1</td>\n",
              "      <td>157.00000</td>\n",
              "      <td>504.157428</td>\n",
              "      <td>-347.157428</td>\n",
              "    </tr>\n",
              "    <tr>\n",
              "      <th>1</th>\n",
              "      <td>2021</td>\n",
              "      <td>1</td>\n",
              "      <td>5</td>\n",
              "      <td>1.00000</td>\n",
              "      <td>1.000000</td>\n",
              "      <td>0.000000</td>\n",
              "    </tr>\n",
              "    <tr>\n",
              "      <th>2</th>\n",
              "      <td>2021</td>\n",
              "      <td>1</td>\n",
              "      <td>7</td>\n",
              "      <td>50.00000</td>\n",
              "      <td>33359.455624</td>\n",
              "      <td>-33309.455624</td>\n",
              "    </tr>\n",
              "    <tr>\n",
              "      <th>3</th>\n",
              "      <td>2021</td>\n",
              "      <td>1</td>\n",
              "      <td>9</td>\n",
              "      <td>1734.21166</td>\n",
              "      <td>1726.695317</td>\n",
              "      <td>7.516343</td>\n",
              "    </tr>\n",
              "    <tr>\n",
              "      <th>4</th>\n",
              "      <td>2021</td>\n",
              "      <td>1</td>\n",
              "      <td>10</td>\n",
              "      <td>0.00000</td>\n",
              "      <td>17053.324666</td>\n",
              "      <td>-17053.324666</td>\n",
              "    </tr>\n",
              "  </tbody>\n",
              "</table>\n",
              "</div>"
            ],
            "text/plain": [
              "   Year  Month  Day  Value_IN(ETH)  Value_OUT(ETH)          Diff\n",
              "0  2021      1    1      157.00000      504.157428   -347.157428\n",
              "1  2021      1    5        1.00000        1.000000      0.000000\n",
              "2  2021      1    7       50.00000    33359.455624 -33309.455624\n",
              "3  2021      1    9     1734.21166     1726.695317      7.516343\n",
              "4  2021      1   10        0.00000    17053.324666 -17053.324666"
            ]
          },
          "execution_count": 40,
          "metadata": {},
          "output_type": "execute_result"
        }
      ],
      "source": [
        "df_check_sum.head()"
      ]
    },
    {
      "cell_type": "markdown",
      "metadata": {},
      "source": [
        "Let's consider 2021-01-01: by aggregating only transactions data on Daily basis we see:  \n",
        "- Value_OUT(ETH) Amount = 504.157\n",
        "- Value_IN(ETH) Amount = 157.00  \n"
      ]
    },
    {
      "cell_type": "markdown",
      "metadata": {},
      "source": [
        "At the same time, if we check transactions on Etherscan in that period, we could see:   \n",
        "\n",
        "\n",
        "![](./pic/6_jan_2021_transactions_Etherscan.png)"
      ]
    },
    {
      "cell_type": "markdown",
      "metadata": {},
      "source": [
        "- Exact match of Amount Sent (OUT) and Different value (bigger) in amount Receive (IN)\n",
        "    - Logically, this can be due to not completeness of information in our analysis  \n",
        "\n",
        "let's find that specific transaction and have a closer look on it:  \n",
        "\n",
        "We want to find 345 ETH"
      ]
    },
    {
      "cell_type": "code",
      "execution_count": 41,
      "metadata": {},
      "outputs": [],
      "source": [
        "df_jan_nozero_short = df_jan_nozero[df_jan_nozero['Day'] == 1]\n",
        "df_jan_nozero_short = df_jan_nozero_short[['Txhash', 'DateTime', 'From', 'To', 'Value_IN(ETH)', 'Value_OUT(ETH)']]"
      ]
    },
    {
      "cell_type": "code",
      "execution_count": 42,
      "metadata": {},
      "outputs": [
        {
          "data": {
            "text/html": [
              "<div>\n",
              "<style scoped>\n",
              "    .dataframe tbody tr th:only-of-type {\n",
              "        vertical-align: middle;\n",
              "    }\n",
              "\n",
              "    .dataframe tbody tr th {\n",
              "        vertical-align: top;\n",
              "    }\n",
              "\n",
              "    .dataframe thead th {\n",
              "        text-align: right;\n",
              "    }\n",
              "</style>\n",
              "<table border=\"1\" class=\"dataframe\">\n",
              "  <thead>\n",
              "    <tr style=\"text-align: right;\">\n",
              "      <th></th>\n",
              "      <th>Txhash</th>\n",
              "      <th>DateTime</th>\n",
              "      <th>From</th>\n",
              "      <th>To</th>\n",
              "      <th>Value_IN(ETH)</th>\n",
              "      <th>Value_OUT(ETH)</th>\n",
              "    </tr>\n",
              "  </thead>\n",
              "  <tbody>\n",
              "    <tr>\n",
              "      <th>0</th>\n",
              "      <td>0xdcc7b59f81fe431c06e346fde6d4cec8e8d591090451...</td>\n",
              "      <td>2021-01-01 20:17:04</td>\n",
              "      <td>0xc098b2a3aa256d2140208c3de6543aaef5cd3a94</td>\n",
              "      <td>0x99fd1378ca799ed6772fe7bcdc9b30b389518962</td>\n",
              "      <td>157.0</td>\n",
              "      <td>0.000000</td>\n",
              "    </tr>\n",
              "    <tr>\n",
              "      <th>1</th>\n",
              "      <td>0x60b59e16168d9cfba3cfd0e83e9bb80e1a9ea1d243da...</td>\n",
              "      <td>2021-01-01 20:34:22</td>\n",
              "      <td>0x99fd1378ca799ed6772fe7bcdc9b30b389518962</td>\n",
              "      <td>0x4ddc2d193948926d02f9b1fe9e1daa0718270ed5</td>\n",
              "      <td>0.0</td>\n",
              "      <td>504.157428</td>\n",
              "    </tr>\n",
              "  </tbody>\n",
              "</table>\n",
              "</div>"
            ],
            "text/plain": [
              "                                              Txhash            DateTime  \\\n",
              "0  0xdcc7b59f81fe431c06e346fde6d4cec8e8d591090451... 2021-01-01 20:17:04   \n",
              "1  0x60b59e16168d9cfba3cfd0e83e9bb80e1a9ea1d243da... 2021-01-01 20:34:22   \n",
              "\n",
              "                                         From  \\\n",
              "0  0xc098b2a3aa256d2140208c3de6543aaef5cd3a94   \n",
              "1  0x99fd1378ca799ed6772fe7bcdc9b30b389518962   \n",
              "\n",
              "                                           To  Value_IN(ETH)  Value_OUT(ETH)  \n",
              "0  0x99fd1378ca799ed6772fe7bcdc9b30b389518962          157.0        0.000000  \n",
              "1  0x4ddc2d193948926d02f9b1fe9e1daa0718270ed5            0.0      504.157428  "
            ]
          },
          "execution_count": 42,
          "metadata": {},
          "output_type": "execute_result"
        }
      ],
      "source": [
        "df_jan_nozero_short"
      ]
    },
    {
      "cell_type": "markdown",
      "metadata": {},
      "source": [
        "In that day, there was 2 transactions made with Address, let's look at both of them:"
      ]
    },
    {
      "cell_type": "markdown",
      "metadata": {},
      "source": [
        "0xdcc7b59f81fe431c06e346fde6d4cec8e8d591090451 (2021-01-01 20:17:04) - transaction to the Address of interest:  \n"
      ]
    },
    {
      "cell_type": "code",
      "execution_count": 43,
      "metadata": {},
      "outputs": [
        {
          "data": {
            "text/plain": [
              "'0xdcc7b59f81fe431c06e346fde6d4cec8e8d591090451d42f758e53989a6915e6'"
            ]
          },
          "execution_count": 43,
          "metadata": {},
          "output_type": "execute_result"
        }
      ],
      "source": [
        "df_jan_nozero_short['Txhash'][0]"
      ]
    },
    {
      "cell_type": "markdown",
      "metadata": {},
      "source": [
        "![](./pic/7_Transaction_2021-01-01_1_ETH-157.png)"
      ]
    },
    {
      "cell_type": "markdown",
      "metadata": {},
      "source": [
        "Value inside the transaction is exactly the same as we see in our Analysis, let's now check second transaction"
      ]
    },
    {
      "cell_type": "code",
      "execution_count": 44,
      "metadata": {},
      "outputs": [
        {
          "data": {
            "text/plain": [
              "'0x60b59e16168d9cfba3cfd0e83e9bb80e1a9ea1d243da974a160dfb0e459ffe8e'"
            ]
          },
          "execution_count": 44,
          "metadata": {},
          "output_type": "execute_result"
        }
      ],
      "source": [
        "df_jan_nozero_short['Txhash'][1]"
      ]
    },
    {
      "cell_type": "markdown",
      "metadata": {},
      "source": [
        "![](./pic/8_Transaction_2021-01-01_1_ETH-504.png)"
      ]
    },
    {
      "cell_type": "markdown",
      "metadata": {},
      "source": [
        "We can see the same value as in Analysis, but now, there are Logs presented!  \n",
        "Since, this transaction was conducted with Smart contract, there could be much more logic in one transaction, then simply transfer of ETH:  \n",
        "let's look at Logs to get more details:"
      ]
    },
    {
      "cell_type": "markdown",
      "metadata": {},
      "source": [
        "![](./pic/9_Logs.png)"
      ]
    },
    {
      "cell_type": "markdown",
      "metadata": {},
      "source": [
        "Indeed, there are more data inside of the transaction logs!"
      ]
    },
    {
      "cell_type": "markdown",
      "metadata": {},
      "source": [
        "This transaction says, that user put his/her ETH into Compound Interest App (https://compound.finance/) to earn interest on ETH"
      ]
    },
    {
      "cell_type": "code",
      "execution_count": 45,
      "metadata": {},
      "outputs": [
        {
          "name": "stdout",
          "output_type": "stream",
          "text": [
            "interest accumulated(ETH) = 0.002548024871522802 ETH\n",
            "total Borrows (ETH)= 38177.6958505696 ETH\n"
          ]
        }
      ],
      "source": [
        "#1:\n",
        "interestAccumulated = 2548024871522802\n",
        "totalBorrows = 38177695850569601648935\n",
        "\n",
        "interestAccumulated_ETH = interestAccumulated / 10**18\n",
        "totalBorrows_ETH = totalBorrows / 10**18\n",
        "\n",
        "print(f'interest accumulated(ETH) = {interestAccumulated_ETH} ETH')\n",
        "print(f'total Borrows (ETH)= {totalBorrows_ETH} ETH')"
      ]
    },
    {
      "cell_type": "code",
      "execution_count": 46,
      "metadata": {},
      "outputs": [
        {
          "name": "stdout",
          "output_type": "stream",
          "text": [
            "comp delta  = 0.08704738110955565 ETH\n"
          ]
        }
      ],
      "source": [
        "# 2\n",
        "compDelta = 87047381109555645\n",
        "\n",
        "compDelta_ETH = compDelta / 10**18\n",
        "\n",
        "print(f'comp delta  = {compDelta_ETH} ETH')"
      ]
    },
    {
      "cell_type": "code",
      "execution_count": 47,
      "metadata": {},
      "outputs": [
        {
          "name": "stdout",
          "output_type": "stream",
          "text": [
            "mint amount = 504.15742828 ETH\n"
          ]
        }
      ],
      "source": [
        "# 3: \n",
        "minter = '0x99fd1378ca799ed6772fe7bcdc9b30b389518962' # address of interest is minter in the transaction\n",
        "mintAmount = 504157428280000000000\n",
        "mintTokens = 2516954242947\n",
        "\n",
        "mintAmount_ETH = mintAmount / 10**18\n",
        "\n",
        "print(f'mint amount = {mintAmount_ETH} ETH') # the same amount as amount of OUT transaction amount"
      ]
    },
    {
      "cell_type": "code",
      "execution_count": 48,
      "metadata": {},
      "outputs": [],
      "source": [
        "# 4:\n",
        "amount = 2516954242947 # number of tokens cETH (compound Ether) given back to Address"
      ]
    },
    {
      "cell_type": "code",
      "execution_count": 49,
      "metadata": {},
      "outputs": [
        {
          "name": "stdout",
          "output_type": "stream",
          "text": [
            "amount back = 503.2487407610184 ETH\n"
          ]
        }
      ],
      "source": [
        "Amount_back_USD = 367673.53\n",
        "ETH_USD_Rate_on_date = 730.60\n",
        "\n",
        "Amount_back_ETH = Amount_back_USD / ETH_USD_Rate_on_date\n",
        "\n",
        "print(f'amount back = {Amount_back_ETH} ETH')"
      ]
    },
    {
      "cell_type": "code",
      "execution_count": 50,
      "metadata": {},
      "outputs": [
        {
          "name": "stdout",
          "output_type": "stream",
          "text": [
            "total value IN = 660.2487407610183 ETH\n"
          ]
        }
      ],
      "source": [
        "value_in = df_jan_nozero_short['Value_IN(ETH)'][0]\n",
        "total_value_in = value_in + Amount_back_ETH\n",
        "\n",
        "print(f'total value IN = {total_value_in} ETH')"
      ]
    },
    {
      "cell_type": "markdown",
      "metadata": {},
      "source": [
        "But total Now Positive on the day! Again not equal to Etherscan data "
      ]
    },
    {
      "cell_type": "code",
      "execution_count": 51,
      "metadata": {},
      "outputs": [],
      "source": [
        "# 2021-01-07:\n",
        "df_jan_nozero_short = df_jan_nozero[df_jan_nozero['Day'] == 7]\n",
        "df_jan_nozero_short = df_jan_nozero_short[['Txhash', 'DateTime', 'From', 'To', 'Value_IN(ETH)', 'Value_OUT(ETH)']].reset_index(drop=True)"
      ]
    },
    {
      "cell_type": "code",
      "execution_count": 52,
      "metadata": {},
      "outputs": [
        {
          "data": {
            "text/html": [
              "<div>\n",
              "<style scoped>\n",
              "    .dataframe tbody tr th:only-of-type {\n",
              "        vertical-align: middle;\n",
              "    }\n",
              "\n",
              "    .dataframe tbody tr th {\n",
              "        vertical-align: top;\n",
              "    }\n",
              "\n",
              "    .dataframe thead th {\n",
              "        text-align: right;\n",
              "    }\n",
              "</style>\n",
              "<table border=\"1\" class=\"dataframe\">\n",
              "  <thead>\n",
              "    <tr style=\"text-align: right;\">\n",
              "      <th></th>\n",
              "      <th>Txhash</th>\n",
              "      <th>DateTime</th>\n",
              "      <th>From</th>\n",
              "      <th>To</th>\n",
              "      <th>Value_IN(ETH)</th>\n",
              "      <th>Value_OUT(ETH)</th>\n",
              "    </tr>\n",
              "  </thead>\n",
              "  <tbody>\n",
              "    <tr>\n",
              "      <th>0</th>\n",
              "      <td>0x09c8b266c0aec3fef27d5c74889285c86761ee5c09c0...</td>\n",
              "      <td>2021-01-07 12:48:57</td>\n",
              "      <td>0xc333e80ef2dec2805f239e3f1e810612d294f771</td>\n",
              "      <td>0x99fd1378ca799ed6772fe7bcdc9b30b389518962</td>\n",
              "      <td>50.0</td>\n",
              "      <td>0.000000</td>\n",
              "    </tr>\n",
              "    <tr>\n",
              "      <th>1</th>\n",
              "      <td>0xb64d741fbaa9ef6220807e6f45a230c5b8354e5f383e...</td>\n",
              "      <td>2021-01-07 18:07:09</td>\n",
              "      <td>0x99fd1378ca799ed6772fe7bcdc9b30b389518962</td>\n",
              "      <td>0x67b66c99d3eb37fa76aa3ed1ff33e8e39f0b9c7a</td>\n",
              "      <td>0.0</td>\n",
              "      <td>13122.199695</td>\n",
              "    </tr>\n",
              "    <tr>\n",
              "      <th>2</th>\n",
              "      <td>0xf149c6342c14c53cb5adcab6a72c1674eada0dfe1885...</td>\n",
              "      <td>2021-01-07 18:11:39</td>\n",
              "      <td>0x99fd1378ca799ed6772fe7bcdc9b30b389518962</td>\n",
              "      <td>0x67b66c99d3eb37fa76aa3ed1ff33e8e39f0b9c7a</td>\n",
              "      <td>0.0</td>\n",
              "      <td>20237.255928</td>\n",
              "    </tr>\n",
              "  </tbody>\n",
              "</table>\n",
              "</div>"
            ],
            "text/plain": [
              "                                              Txhash            DateTime  \\\n",
              "0  0x09c8b266c0aec3fef27d5c74889285c86761ee5c09c0... 2021-01-07 12:48:57   \n",
              "1  0xb64d741fbaa9ef6220807e6f45a230c5b8354e5f383e... 2021-01-07 18:07:09   \n",
              "2  0xf149c6342c14c53cb5adcab6a72c1674eada0dfe1885... 2021-01-07 18:11:39   \n",
              "\n",
              "                                         From  \\\n",
              "0  0xc333e80ef2dec2805f239e3f1e810612d294f771   \n",
              "1  0x99fd1378ca799ed6772fe7bcdc9b30b389518962   \n",
              "2  0x99fd1378ca799ed6772fe7bcdc9b30b389518962   \n",
              "\n",
              "                                           To  Value_IN(ETH)  Value_OUT(ETH)  \n",
              "0  0x99fd1378ca799ed6772fe7bcdc9b30b389518962           50.0        0.000000  \n",
              "1  0x67b66c99d3eb37fa76aa3ed1ff33e8e39f0b9c7a            0.0    13122.199695  \n",
              "2  0x67b66c99d3eb37fa76aa3ed1ff33e8e39f0b9c7a            0.0    20237.255928  "
            ]
          },
          "execution_count": 52,
          "metadata": {},
          "output_type": "execute_result"
        }
      ],
      "source": [
        "df_jan_nozero_short"
      ]
    },
    {
      "cell_type": "code",
      "execution_count": 53,
      "metadata": {},
      "outputs": [
        {
          "data": {
            "text/plain": [
              "'0xb64d741fbaa9ef6220807e6f45a230c5b8354e5f383ea78bcec4b9d430aff60b'"
            ]
          },
          "execution_count": 53,
          "metadata": {},
          "output_type": "execute_result"
        }
      ],
      "source": [
        "df_jan_nozero_short['Txhash'][1]"
      ]
    },
    {
      "cell_type": "code",
      "execution_count": 54,
      "metadata": {},
      "outputs": [
        {
          "name": "stdout",
          "output_type": "stream",
          "text": [
            "value back ETH = 24817.533776\n"
          ]
        }
      ],
      "source": [
        "tx_value_out = 13122.20\n",
        "\n",
        "tx_value_back_USD = 31021917.22\n",
        "ETH_USD_rate = 1250 \n",
        "\n",
        "tx_value_back_ETH = tx_value_back_USD / ETH_USD_rate\n",
        "\n",
        "print(f'value back ETH = {tx_value_back_ETH}')"
      ]
    },
    {
      "cell_type": "code",
      "execution_count": 55,
      "metadata": {},
      "outputs": [
        {
          "name": "stdout",
          "output_type": "stream",
          "text": [
            "value back in tokens = 16016250 $\n",
            "value back in Tokens = 12813.0 ETH\n"
          ]
        }
      ],
      "source": [
        "number_tokens_back = 12813\n",
        "\n",
        "price_token = 1250\n",
        "\n",
        "value_in_tokens = number_tokens_back * price_token\n",
        "value_in_tokens_ETH = value_in_tokens / ETH_USD_rate\n",
        "\n",
        "print(f'value back in tokens = {value_in_tokens} $')\n",
        "print(f'value back in Tokens = {value_in_tokens_ETH} ETH')"
      ]
    },
    {
      "cell_type": "code",
      "execution_count": 56,
      "metadata": {},
      "outputs": [],
      "source": [
        "tx_test = df_jan_nozero_short['Txhash'][1]"
      ]
    },
    {
      "cell_type": "code",
      "execution_count": 57,
      "metadata": {},
      "outputs": [],
      "source": [
        "#Check Transaction Receipt Status\n",
        "address = '0x99FD1378ca799ED6772Fe7bCDC9B30B389518962'\n",
        "\n",
        "url = \"https://api.etherscan.io/api\" + \\\n",
        "      \"?module=transaction\" + \\\n",
        "      \"&action=gettxreceiptstatus\" + \\\n",
        "      \"txhash=\" + tx_test + \\\n",
        "      \"&apikey=\" + access_token\n",
        "\n",
        "response = requests.get(url, verify=certifi.where())\n",
        "tx_info = response.json()"
      ]
    },
    {
      "cell_type": "code",
      "execution_count": 58,
      "metadata": {},
      "outputs": [
        {
          "data": {
            "text/plain": [
              "{'status': '0',\n",
              " 'message': 'NOTOK',\n",
              " 'result': 'Error! Missing Or invalid Action name'}"
            ]
          },
          "execution_count": 58,
          "metadata": {},
          "output_type": "execute_result"
        }
      ],
      "source": [
        "tx_info"
      ]
    },
    {
      "cell_type": "code",
      "execution_count": 59,
      "metadata": {},
      "outputs": [],
      "source": [
        "base_url = \"https://api.etherscan.io/api\"\n",
        "\n",
        "def make_api_url(module, action, address, **kwargs):\n",
        "    url = base_url + f\"?module={module}&action={action}&address={address}&apikey={access_token}\"\n",
        "    for key, value in kwargs.items():\n",
        "        url += f\"&{key}={value}\"\n",
        "    return url"
      ]
    },
    {
      "cell_type": "markdown",
      "metadata": {},
      "source": [
        "## Get Normal + Internal Transactions"
      ]
    },
    {
      "cell_type": "code",
      "execution_count": 60,
      "metadata": {},
      "outputs": [],
      "source": [
        "base_url = \"https://api.etherscan.io/api\"\n",
        "\n",
        "def make_api_url(module, action, **kwargs):\n",
        "\turl = base_url + f\"?module={module}&action={action}&apikey={access_token}\"\n",
        "\n",
        "\tfor key, value in kwargs.items():\n",
        "\t\turl += f\"&{key}={value}\"\n",
        "\n",
        "\treturn url"
      ]
    },
    {
      "cell_type": "code",
      "execution_count": 61,
      "metadata": {},
      "outputs": [],
      "source": [
        "# normal_transactions:\n",
        "transactions_url = make_api_url(\"account\", \"txlist\", address=user_1, startblock=0, endblock=99999999999, page=1, offset=10000, sort=\"asc\")\n",
        "response = requests.get(transactions_url)\n",
        "data = response.json()"
      ]
    },
    {
      "cell_type": "code",
      "execution_count": 62,
      "metadata": {},
      "outputs": [],
      "source": [
        "# internal transactions:\n",
        "internal_tx_url = make_api_url(\"account\", \"txlistinternal\", address=user_1, startblock=0, endblock=999999999999, page=1, offset=10000, sort=\"asc\")\n",
        "response2 = requests.get(internal_tx_url)\n",
        "data2 = response2.json()"
      ]
    },
    {
      "cell_type": "code",
      "execution_count": 63,
      "metadata": {},
      "outputs": [],
      "source": [
        "def df_from_response(data):\n",
        "    df_test = pd.DataFrame(data['result'][0], index=[0])\n",
        "    df_base = df_test.drop(index=0)\n",
        "    number_of_rows = len(data['result'])\n",
        "\n",
        "    for i in range(0, number_of_rows):\n",
        "        df_iter = pd.DataFrame(data['result'][i], index=[0])\n",
        "        df_base = pd.concat([df_base, df_iter]).reset_index(drop=True)\n",
        "\n",
        "    return df_base"
      ]
    },
    {
      "cell_type": "code",
      "execution_count": 64,
      "metadata": {},
      "outputs": [],
      "source": [
        "df_internal = df_from_response(data2)"
      ]
    },
    {
      "cell_type": "code",
      "execution_count": 65,
      "metadata": {},
      "outputs": [],
      "source": [
        "df_normal = df_from_response(data)"
      ]
    },
    {
      "cell_type": "code",
      "execution_count": 66,
      "metadata": {},
      "outputs": [],
      "source": [
        "df_normal = df_normal[['timeStamp',\n",
        "                       'hash',\n",
        "                       'from',\n",
        "                       'to',\n",
        "                       'value',\n",
        "                       'gas',\n",
        "                       'gasPrice',\n",
        "                       'isError',\n",
        "                       'txreceipt_status',\n",
        "                       'gasUsed']]"
      ]
    },
    {
      "cell_type": "code",
      "execution_count": 67,
      "metadata": {},
      "outputs": [],
      "source": [
        "df_internal = df_internal[['timeStamp',\n",
        "                           'hash',\n",
        "                           'from',\n",
        "                           'to',\n",
        "                           'value',\n",
        "                           'type',\n",
        "                           'gas',\n",
        "                           'gasUsed',\n",
        "                           'isError']]"
      ]
    },
    {
      "cell_type": "markdown",
      "metadata": {},
      "source": [
        "To calculate Transaction fee for normal transaction we multiply gasUsed on GasPrice  \n",
        "In internal transactions we do not have gasPrice column, therefore we simply use gasUsed value"
      ]
    },
    {
      "cell_type": "code",
      "execution_count": 68,
      "metadata": {},
      "outputs": [],
      "source": [
        "df_normal['gasUsed'] = pd.to_numeric(df_normal['gasUsed'])\n",
        "df_normal['gasPrice'] = pd.to_numeric(df_normal['gasPrice'])\n",
        "\n",
        "# tx fee calculation:\n",
        "df_normal['tx_fee'] = df_normal['gasUsed'] * df_normal['gasPrice']\n",
        "df_normal['is_internal'] = 0"
      ]
    },
    {
      "cell_type": "code",
      "execution_count": 69,
      "metadata": {},
      "outputs": [],
      "source": [
        "pd.options.mode.chained_assignment = None  # default='warn'\n",
        "df_internal['tx_fee'] = pd.to_numeric(df_internal['gasUsed'])\n",
        "df_internal['is_internal'] = 1"
      ]
    },
    {
      "cell_type": "code",
      "execution_count": 70,
      "metadata": {},
      "outputs": [
        {
          "data": {
            "text/plain": [
              "Index(['timeStamp', 'hash', 'from', 'to', 'value', 'gas', 'gasPrice',\n",
              "       'isError', 'txreceipt_status', 'gasUsed', 'tx_fee', 'is_internal'],\n",
              "      dtype='object')"
            ]
          },
          "execution_count": 70,
          "metadata": {},
          "output_type": "execute_result"
        }
      ],
      "source": [
        "df_normal.columns"
      ]
    },
    {
      "cell_type": "code",
      "execution_count": 71,
      "metadata": {},
      "outputs": [
        {
          "data": {
            "text/plain": [
              "array(['1', '0'], dtype=object)"
            ]
          },
          "execution_count": 71,
          "metadata": {},
          "output_type": "execute_result"
        }
      ],
      "source": [
        "df_normal['txreceipt_status'].unique()"
      ]
    },
    {
      "cell_type": "code",
      "execution_count": 129,
      "metadata": {},
      "outputs": [],
      "source": [
        "df_normal = df_normal[['timeStamp',\n",
        "                       'hash',\n",
        "                       'from',\n",
        "                       'to',\n",
        "                       'value',\n",
        "                       'isError',\n",
        "                       'tx_fee',\n",
        "                       'is_internal']]"
      ]
    },
    {
      "cell_type": "code",
      "execution_count": 130,
      "metadata": {},
      "outputs": [],
      "source": [
        "df_internal = df_internal[['timeStamp',\n",
        "                           'hash',\n",
        "                           'from',\n",
        "                           'to',\n",
        "                           'value',\n",
        "                           'isError',\n",
        "                           'tx_fee',\n",
        "                           'is_internal']]"
      ]
    },
    {
      "cell_type": "code",
      "execution_count": 131,
      "metadata": {},
      "outputs": [],
      "source": [
        "df = pd.concat([df_normal, df_internal]).reset_index(drop=True)"
      ]
    },
    {
      "cell_type": "code",
      "execution_count": 132,
      "metadata": {},
      "outputs": [],
      "source": [
        "# filter transactions with error\n",
        "df = df[df['isError'] == '0']"
      ]
    },
    {
      "cell_type": "code",
      "execution_count": 133,
      "metadata": {},
      "outputs": [],
      "source": [
        "df = df.drop(columns=['isError'])"
      ]
    },
    {
      "cell_type": "code",
      "execution_count": 134,
      "metadata": {},
      "outputs": [],
      "source": [
        "def from_timestamp_to_date(value):\n",
        "    result = datetime.fromtimestamp(int(value))\n",
        "    return result"
      ]
    },
    {
      "cell_type": "code",
      "execution_count": 135,
      "metadata": {},
      "outputs": [],
      "source": [
        "# convert timestamp to datetime:\n",
        "df['datetime'] = df['timeStamp'].apply(lambda x: from_timestamp_to_date(x))\n",
        "# year month and day:\n",
        "df['year'] = df['datetime'].dt.year\n",
        "df['month'] = df['datetime'].dt.month\n",
        "df['day'] = df['datetime'].dt.day"
      ]
    },
    {
      "cell_type": "code",
      "execution_count": 136,
      "metadata": {},
      "outputs": [],
      "source": [
        "df.loc[(df['from'] == user_1) & (df['to'] != user_1), 'is_sender'] = 1\n",
        "df.loc[(df['from'] != user_1) & (df['to'] == user_1), 'is_sender'] = 0\n",
        "df.loc[(df['from'] == user_1) & (df['to'] == user_1), 'is_sender'] = 999 # sender and receiver is the same"
      ]
    },
    {
      "cell_type": "code",
      "execution_count": 137,
      "metadata": {},
      "outputs": [],
      "source": [
        "# convert values to integer:\n",
        "df['value'] = df['value'].apply(lambda x: to_integer(x))\n",
        "\n",
        "df.loc[(df['is_sender'] == 1), 'value'] = -df['value'] # negative sign for out transactions\n",
        "df.loc[(df['is_sender'] == 0), 'value'] = df['value']\n",
        "df.loc[(df['is_sender'] == 999), 'value'] = 0 # consider transaction from user_1 to user_1 as no value"
      ]
    },
    {
      "cell_type": "code",
      "execution_count": 138,
      "metadata": {},
      "outputs": [],
      "source": [
        "# tx_fee:\n",
        "df['tx_fee'] = df['tx_fee'].apply(lambda x: to_integer(x))\n",
        "\n",
        "df.loc[df['is_sender'] == 0, 'tx_fee'] = 0 # receiver does not pay for transaction fee"
      ]
    },
    {
      "cell_type": "code",
      "execution_count": 139,
      "metadata": {},
      "outputs": [],
      "source": [
        "df['value_clean'] = df['value'] - df['tx_fee'] # subtract transaction fee from value"
      ]
    },
    {
      "cell_type": "code",
      "execution_count": 140,
      "metadata": {},
      "outputs": [],
      "source": [
        "df.to_csv('./data/user_data_final.csv')"
      ]
    },
    {
      "cell_type": "markdown",
      "metadata": {},
      "source": [
        "After inclusion of internal transactions, we can see more accurate balance of wallet:"
      ]
    },
    {
      "cell_type": "markdown",
      "metadata": {},
      "source": [
        "for example, peak of 2022-03-02 difference between running total of transactions in Analysis is only 3 ETH differ from the value shown in Etherscan:  \n",
        "![](./pic/10_good_balance.png)"
      ]
    },
    {
      "cell_type": "markdown",
      "metadata": {},
      "source": [
        "Generally, the shape of Balance graph is correct in running total calculation, the difference is observed in date:  \n",
        "![](./pic/11_Difference_in_balance.png)"
      ]
    },
    {
      "cell_type": "markdown",
      "metadata": {},
      "source": [
        "we see same balance on 21 August,   \n",
        "but then we see difference in 22 August, where Running Total is remains the same, while Etherscan already shows new value, this difference then is eliminated but on 23 August in Running Total analysis,so basically there is 1 day Lag in Running total Analysis  \n",
        "for the purpose of the current Analysis, such difference is not crucial, but we should stay aware of that difference"
      ]
    },
    {
      "cell_type": "markdown",
      "metadata": {},
      "source": [
        "Lets now look at the biggest transactions:"
      ]
    },
    {
      "cell_type": "markdown",
      "metadata": {},
      "source": [
        "![](./pic/12_biggest%20transactions.png)"
      ]
    },
    {
      "cell_type": "markdown",
      "metadata": {},
      "source": [
        "these are transactions, that are bigger then 20 000 ETH per transaction"
      ]
    },
    {
      "cell_type": "markdown",
      "metadata": {},
      "source": [
        "if we look closer on them we can see:  \n",
        "- some of them are go by pairs (as the example of Compound transaction)\n",
        "    - pairs have close timing\n",
        "    - and similar values with different signs  \n",
        "\n",
        "such transactions probably can be categorized as Loans (user gives Tokens to Dapp to earn interest on that tokens), let's check this theory and look deeply on some of such transactions"
      ]
    },
    {
      "cell_type": "code",
      "execution_count": 141,
      "metadata": {},
      "outputs": [
        {
          "data": {
            "text/html": [
              "<div>\n",
              "<style scoped>\n",
              "    .dataframe tbody tr th:only-of-type {\n",
              "        vertical-align: middle;\n",
              "    }\n",
              "\n",
              "    .dataframe tbody tr th {\n",
              "        vertical-align: top;\n",
              "    }\n",
              "\n",
              "    .dataframe thead th {\n",
              "        text-align: right;\n",
              "    }\n",
              "</style>\n",
              "<table border=\"1\" class=\"dataframe\">\n",
              "  <thead>\n",
              "    <tr style=\"text-align: right;\">\n",
              "      <th></th>\n",
              "      <th>tx_hash</th>\n",
              "      <th>Dapp</th>\n",
              "    </tr>\n",
              "  </thead>\n",
              "  <tbody>\n",
              "    <tr>\n",
              "      <th>0</th>\n",
              "      <td>0x0fa977057071d3fbc4fac314c2e0631db7a37139c2c8...</td>\n",
              "      <td>Compound</td>\n",
              "    </tr>\n",
              "    <tr>\n",
              "      <th>1</th>\n",
              "      <td>0x0c9d82073e7dec81f52c74b1949ea9a711b3965dc7dd...</td>\n",
              "      <td>Alpha Finance Lab</td>\n",
              "    </tr>\n",
              "  </tbody>\n",
              "</table>\n",
              "</div>"
            ],
            "text/plain": [
              "                                             tx_hash               Dapp\n",
              "0  0x0fa977057071d3fbc4fac314c2e0631db7a37139c2c8...           Compound\n",
              "1  0x0c9d82073e7dec81f52c74b1949ea9a711b3965dc7dd...  Alpha Finance Lab"
            ]
          },
          "execution_count": 141,
          "metadata": {},
          "output_type": "execute_result"
        }
      ],
      "source": [
        "tx_dapp = pd.DataFrame({\n",
        "    'tx_hash': ['0x0fa977057071d3fbc4fac314c2e0631db7a37139c2c8631c7f22a173e50b9381',\n",
        "                '0x0c9d82073e7dec81f52c74b1949ea9a711b3965dc7ddb3aa35fc25beb0122b0d',\n",
        "                '0xe91625f5087630e287f96ec9f7838c7e82b8eb820096dd2e84990d717609d5de',\n",
        "                '0x3f22ff12f3895250efe623888b4919a1a9abdec617bf9a677ecf359e905bdbda',\n",
        "                '0xb64d741fbaa9ef6220807e6f45a230c5b8354e5f383ea78bcec4b9d430aff60b',\n",
        "                '0x7a0ed76a86fc5e80fde334c587b71bddbd5d7d5a2fb7d68476d2447983d29173',\n",
        "                '0x8cf30ec693806b68b6822d093722e0424cbd573ce646d023ce9b126c02d1f41f',\n",
        "                '0x907d4b1b6f930f56d2643f148dd95e76f3f2b338ba78b5c4b60b4776c9d1bb0d',\n",
        "                '0x234ba280aa478ea855c880de915ae8dbe0ad716127ce5745a9c014420cc36e0f',\n",
        "                '0x85625b73451f9e2b4bcad817b12e42719b289166ae223577a83238585d37deba',\n",
        "                '0xe114204090da59413cdcfbc41516262006c888b967395be5defc8bd046d365dd',\n",
        "                '0x30c125b3c2c5d3ff618e48440ad1455d95e1ccc0d244fb15faaf4c52173c2e4e',\n",
        "                '0x29f9cdc47e994fae0a0a12308ecb72d15dac669eca832b56a6dcd8a2f7ef07c7',\n",
        "                '0xdc1eb69cf263410ad4938055c8d043eec877167e00d4746600fe6f9e94cb21bc',\n",
        "                '0xe7b0359971e5a431dbb14d3de43cffbd52fd2ae1a1d823a1ea9580a2db29d100',\n",
        "                '0xe50d18d10f854a5af61d492c94cc51382e608f57e7bc3a20830ecf763c0f9cb3',\n",
        "                '0xc108362caad81ceda9bdeefa33b5c37b2aa9cf39c97f3c56f55286a1eb38ab0f',\n",
        "                '0xa5b96b04a84efbfd246ed402b12ed90940a48095be1abe94b1b74a2cc3738124',\n",
        "                '0xbb86e33dd0e00543b42a1ea20caa96d7183a5f244b5612a53e77e8dc24e72f57',\n",
        "                '0xf149c6342c14c53cb5adcab6a72c1674eada0dfe18858c9f76995acba1123fc0',\n",
        "                '0x6050dbccac533dbdcb0b8b55d9e8b086a7acb565942dbf59a9dd1952ccb662b7',\n",
        "                '0xe72c884ef71eef8dfc65707db15cc280805b29ef3fe9b6fc54c6077fcf9b9dc1',\n",
        "                '0x8cc23443de659b30c4bce591401122aaca2023b5d3633153b42fc7eb46eaad9a',\n",
        "                '0x6ad3c0b1f60e18c52dff21782c6161eb36ab7cc974ab05ceeb1583b401f8a91a',\n",
        "                '0x17f38a0fa72d3bceb4cc1bbeebc951f463a8d0ce13cce725d08754da08f6d0e6',\n",
        "                '0xde071af5f59373f84546232ef36326ce66391004a170cd6f129b47c497eee794',\n",
        "                '0xb38fd2095263dfdb2efebcfdc7a35279a42952a44dc936964c5e359b6c0ba83b',\n",
        "                '0x018b6e0190c2d907c2b416fcacb7da28089293936cf95a4d3c0fb0094d6e9799',\n",
        "                '0x1f182ccac9558c3d184be620e04d2d9e79017f205c6502003885e9aef002e9f6',\n",
        "                '0xaf94c058a7be02bd63ac08cd6f6d5c3f8cd60a7e11f4638a3a927028523edc39',\n",
        "                '0x2b2b184468de98783576c69102505b42151cbdf16d86ac7caa644492d791c458',\n",
        "                '0x434ac27750b203f38f4c84f10e8270d3fcc42c04b32683cff745132aaf8a15fb',\n",
        "                '0x9c8d2cbc5c84916aec7309f680cc15c243943e654bdf81c34516f2f19b26299f',\n",
        "                '0x6bc041451a896aecbcc01dc8ea81da842b7b0dcfde7e26dcf85975edfe1ae3bc',\n",
        "                '0x076aad897bbb3e225330a4ef585bc464e2922d06ac2cc41ca0f6ea2074e26970',\n",
        "                '0x88dd6aca9855b28c55612833738dd3f56cdbffd5d5338319b5d0fefd6d271cb9',\n",
        "                '0x849ed333a01a4a8ae2d1949ff73bd03c39239442a176acab3346217691e3c5c4',\n",
        "                '0xa46ceb2955f1cd6a2e2d56b24417e3c551478d594fc370941a8f73dd6ac8dd41',\n",
        "                '0xca5ed7a3ce20d175179894e4703cb7dc19a9ff02aa2963f2e3baf15b03af39b0',\n",
        "                '0x7667f1906d9a39bf4296e9550fb931e02d9effdbecdd6f0e39c993e55d001c18',\n",
        "                '0x6bb9bbe787f54d8128991583c617edabf8a86c134da1bedb3599354be9e515b0',\n",
        "                '0x90027ae5ef8c1cd2e1d500324c438f00daecef9e390df1450b5708dffe1bef15',\n",
        "                '0xe02c99bfda4f3c4ab9a0d23649b538bb322ddeccc212c0cf1f0d1944f85074cd',\n",
        "                '0xe6c08e9271261a71644cbbafc329b4a3ca54eb2e9374fcf836048eccd0804982',\n",
        "                '0x3c5b31820e3242c48d1cab246dad68c47e4eb850aa56a550764061a234245d45',\n",
        "                '0x33cc2deaf2d54246afe8b3b9121c4ceab3113ff0d277b9fdf6e537c1f53ca9bf',\n",
        "                '0x8f958e11eba62029f5aca4367233bc72ea1ffc858f2954b085c002c77962fd79',\n",
        "                '0xffbc0757e3014fac0efe60931ee5007a2cfc57fbc0854d7918ebf88240bf7ba0',\n",
        "                '0xc024581828678628cdf668c657cf0c4a7709a36f8ee12e41dbc6ee0f36ed0e30',\n",
        "                '0xedf56ca62616321f2a11862b42f14523c1b3c16dc16dd7da7eae6b9f4b78e92f',\n",
        "                '0xd4a9f78c4a7c1235cd41dbc67807aae9bd88e8aa5bed1e3a87ae8f35f10d2cca',\n",
        "                '0xb821f457902008c5e4ab7dc9c1eed9e15a9f94a3d25bc14d2105b74f6871cfed',\n",
        "                '0x4c91c54c8d3b44e8be7d0d086b1a8abf1edde832bbd91065455b84fec8fabaf7',\n",
        "                '0x6618e55ba8be7955c711b466e7e0608d1ef6088aac306208a6379ff1815440f5',\n",
        "                '0x9e61f32e2f2a21cf5e05e1179e25f8cc4ff607e446d8659f891c01a067c8edb3',\n",
        "                '0x335201e04e21ee081e178780348308fdb4c54e77e8bbe703dd9a9791d6a63269',\n",
        "                '0x52b25346387d60c526de43ec5ce71574852cbe40bcb2cec8aed9b40ce7d52996',\n",
        "                '0xbb3a8587b66a0460086dda6fdca6e49436a467d3bb971a3aa77316d97933bd93',\n",
        "                '0xc1b734a8ddda4fa157b3ed939231bd790896a9ec7bcba5e2e0aacd3165cb7454',\n",
        "                '0x1bd459bc1add34c79827319149627dbf600feaa3f4577a704c5270c1d8e03f59',\n",
        "                '0xb9b1d15ee5db13fceb15129744d32dbc6b0705c1ad3e9d6e02ed2b910437cfd9',\n",
        "                '0x054de419b04d5621d355249d73490b13732f493a67a176c12ffd99a521e63c22',\n",
        "                '0x89035f62dfbd2b603102217cd6fae9174c487162161abcaf40c2e59e8ae012cd'],\n",
        "    'Dapp': ['Compound',\n",
        "             'Alpha Finance Lab',\n",
        "             'Lido',\n",
        "             'Lido',\n",
        "             'Alpha Finance Lab',\n",
        "             'Compound',\n",
        "             'Compound',\n",
        "             'Alpha Finance Lab',\n",
        "             'Compound',\n",
        "             'Alpha Finance Lab',\n",
        "             'Compound',\n",
        "             'Lido',\n",
        "             'Lido',\n",
        "             'Compound',\n",
        "             'Alpha Finance Lab',\n",
        "             'Compound',\n",
        "             'Zapper.Fi',\n",
        "             'Compound',\n",
        "             'Compound',\n",
        "             'Alpha Finance Lab',\n",
        "             'Compound',\n",
        "             'Alpha Finance Lab',\n",
        "             'Alpha Finance Lab',\n",
        "             'Compound',\n",
        "             'Alpha Finance Lab',\n",
        "             'Compound',\n",
        "             'Alpha Finance Lab',\n",
        "             'Alpha Finance Lab',\n",
        "             'Alpha Finance Lab',\n",
        "             'Zapper.Fi',\n",
        "             'Zapper.Fi',\n",
        "             'Compound',\n",
        "             'Compound',\n",
        "             'Lido',\n",
        "             'Lido',\n",
        "             'Compound',\n",
        "             'Alpha Finance Lab',\n",
        "             'Compound',\n",
        "             'Alpha Finance Lab',\n",
        "             'Compound',\n",
        "             'Compound',\n",
        "             'Compound',\n",
        "             'Alpha Finance Lab',\n",
        "             'Compound',\n",
        "             'Alpha Finance Lab',\n",
        "             'Compound',\n",
        "             'Compound',\n",
        "             'Compound',\n",
        "             'Zapper.Fi',\n",
        "             'Compound',\n",
        "             'Lido',\n",
        "             'Lido',\n",
        "             'Compound',\n",
        "             'Aave',\n",
        "             'Aave',\n",
        "             'Wrapped Ether',\n",
        "             'Wrapped Ether',\n",
        "             'Wrapped Ether',\n",
        "             '0x: Exchange Proxy',\n",
        "             'Flush token',\n",
        "             'Compound',\n",
        "             'FTX Exchange',\n",
        "             'Compound']\n",
        "})\n",
        "\n",
        "tx_dapp.head(2)"
      ]
    },
    {
      "cell_type": "code",
      "execution_count": 142,
      "metadata": {},
      "outputs": [
        {
          "data": {
            "text/plain": [
              "63"
            ]
          },
          "execution_count": 142,
          "metadata": {},
          "output_type": "execute_result"
        }
      ],
      "source": [
        "len(['0x0fa977057071d3fbc4fac314c2e0631db7a37139c2c8631c7f22a173e50b9381',\n",
        "                '0x0c9d82073e7dec81f52c74b1949ea9a711b3965dc7ddb3aa35fc25beb0122b0d',\n",
        "                '0xe91625f5087630e287f96ec9f7838c7e82b8eb820096dd2e84990d717609d5de',\n",
        "                '0x3f22ff12f3895250efe623888b4919a1a9abdec617bf9a677ecf359e905bdbda',\n",
        "                '0xb64d741fbaa9ef6220807e6f45a230c5b8354e5f383ea78bcec4b9d430aff60b',\n",
        "                '0x7a0ed76a86fc5e80fde334c587b71bddbd5d7d5a2fb7d68476d2447983d29173',\n",
        "                '0x8cf30ec693806b68b6822d093722e0424cbd573ce646d023ce9b126c02d1f41f',\n",
        "                '0x907d4b1b6f930f56d2643f148dd95e76f3f2b338ba78b5c4b60b4776c9d1bb0d',\n",
        "                '0x234ba280aa478ea855c880de915ae8dbe0ad716127ce5745a9c014420cc36e0f',\n",
        "                '0x85625b73451f9e2b4bcad817b12e42719b289166ae223577a83238585d37deba',\n",
        "                '0xe114204090da59413cdcfbc41516262006c888b967395be5defc8bd046d365dd',\n",
        "                '0x30c125b3c2c5d3ff618e48440ad1455d95e1ccc0d244fb15faaf4c52173c2e4e',\n",
        "                '0x29f9cdc47e994fae0a0a12308ecb72d15dac669eca832b56a6dcd8a2f7ef07c7',\n",
        "                '0xdc1eb69cf263410ad4938055c8d043eec877167e00d4746600fe6f9e94cb21bc',\n",
        "                '0xe7b0359971e5a431dbb14d3de43cffbd52fd2ae1a1d823a1ea9580a2db29d100',\n",
        "                '0xe50d18d10f854a5af61d492c94cc51382e608f57e7bc3a20830ecf763c0f9cb3',\n",
        "                '0xc108362caad81ceda9bdeefa33b5c37b2aa9cf39c97f3c56f55286a1eb38ab0f',\n",
        "                '0xa5b96b04a84efbfd246ed402b12ed90940a48095be1abe94b1b74a2cc3738124',\n",
        "                '0xbb86e33dd0e00543b42a1ea20caa96d7183a5f244b5612a53e77e8dc24e72f57',\n",
        "                '0xf149c6342c14c53cb5adcab6a72c1674eada0dfe18858c9f76995acba1123fc0',\n",
        "                '0x6050dbccac533dbdcb0b8b55d9e8b086a7acb565942dbf59a9dd1952ccb662b7',\n",
        "                '0xe72c884ef71eef8dfc65707db15cc280805b29ef3fe9b6fc54c6077fcf9b9dc1',\n",
        "                '0x8cc23443de659b30c4bce591401122aaca2023b5d3633153b42fc7eb46eaad9a',\n",
        "                '0x6ad3c0b1f60e18c52dff21782c6161eb36ab7cc974ab05ceeb1583b401f8a91a',\n",
        "                '0x17f38a0fa72d3bceb4cc1bbeebc951f463a8d0ce13cce725d08754da08f6d0e6',\n",
        "                '0xde071af5f59373f84546232ef36326ce66391004a170cd6f129b47c497eee794',\n",
        "                '0xb38fd2095263dfdb2efebcfdc7a35279a42952a44dc936964c5e359b6c0ba83b',\n",
        "                '0x018b6e0190c2d907c2b416fcacb7da28089293936cf95a4d3c0fb0094d6e9799',\n",
        "                '0x1f182ccac9558c3d184be620e04d2d9e79017f205c6502003885e9aef002e9f6',\n",
        "                '0xaf94c058a7be02bd63ac08cd6f6d5c3f8cd60a7e11f4638a3a927028523edc39',\n",
        "                '0x2b2b184468de98783576c69102505b42151cbdf16d86ac7caa644492d791c458',\n",
        "                '0x434ac27750b203f38f4c84f10e8270d3fcc42c04b32683cff745132aaf8a15fb',\n",
        "                '0x9c8d2cbc5c84916aec7309f680cc15c243943e654bdf81c34516f2f19b26299f',\n",
        "                '0x6bc041451a896aecbcc01dc8ea81da842b7b0dcfde7e26dcf85975edfe1ae3bc',\n",
        "                '0x076aad897bbb3e225330a4ef585bc464e2922d06ac2cc41ca0f6ea2074e26970',\n",
        "                '0x88dd6aca9855b28c55612833738dd3f56cdbffd5d5338319b5d0fefd6d271cb9',\n",
        "                '0x849ed333a01a4a8ae2d1949ff73bd03c39239442a176acab3346217691e3c5c4',\n",
        "                '0xa46ceb2955f1cd6a2e2d56b24417e3c551478d594fc370941a8f73dd6ac8dd41',\n",
        "                '0xca5ed7a3ce20d175179894e4703cb7dc19a9ff02aa2963f2e3baf15b03af39b0',\n",
        "                '0x7667f1906d9a39bf4296e9550fb931e02d9effdbecdd6f0e39c993e55d001c18',\n",
        "                '0x6bb9bbe787f54d8128991583c617edabf8a86c134da1bedb3599354be9e515b0',\n",
        "                '0x90027ae5ef8c1cd2e1d500324c438f00daecef9e390df1450b5708dffe1bef15',\n",
        "                '0xe02c99bfda4f3c4ab9a0d23649b538bb322ddeccc212c0cf1f0d1944f85074cd',\n",
        "                '0xe6c08e9271261a71644cbbafc329b4a3ca54eb2e9374fcf836048eccd0804982',\n",
        "                '0x3c5b31820e3242c48d1cab246dad68c47e4eb850aa56a550764061a234245d45',\n",
        "                '0x33cc2deaf2d54246afe8b3b9121c4ceab3113ff0d277b9fdf6e537c1f53ca9bf',\n",
        "                '0x8f958e11eba62029f5aca4367233bc72ea1ffc858f2954b085c002c77962fd79',\n",
        "                '0xffbc0757e3014fac0efe60931ee5007a2cfc57fbc0854d7918ebf88240bf7ba0',\n",
        "                '0xc024581828678628cdf668c657cf0c4a7709a36f8ee12e41dbc6ee0f36ed0e30',\n",
        "                '0xedf56ca62616321f2a11862b42f14523c1b3c16dc16dd7da7eae6b9f4b78e92f',\n",
        "                '0xd4a9f78c4a7c1235cd41dbc67807aae9bd88e8aa5bed1e3a87ae8f35f10d2cca',\n",
        "                '0xb821f457902008c5e4ab7dc9c1eed9e15a9f94a3d25bc14d2105b74f6871cfed',\n",
        "                '0x4c91c54c8d3b44e8be7d0d086b1a8abf1edde832bbd91065455b84fec8fabaf7',\n",
        "                '0x6618e55ba8be7955c711b466e7e0608d1ef6088aac306208a6379ff1815440f5',\n",
        "                '0x9e61f32e2f2a21cf5e05e1179e25f8cc4ff607e446d8659f891c01a067c8edb3',\n",
        "                '0x335201e04e21ee081e178780348308fdb4c54e77e8bbe703dd9a9791d6a63269',\n",
        "                '0x52b25346387d60c526de43ec5ce71574852cbe40bcb2cec8aed9b40ce7d52996',\n",
        "                '0xbb3a8587b66a0460086dda6fdca6e49436a467d3bb971a3aa77316d97933bd93',\n",
        "                '0xc1b734a8ddda4fa157b3ed939231bd790896a9ec7bcba5e2e0aacd3165cb7454',\n",
        "                '0x1bd459bc1add34c79827319149627dbf600feaa3f4577a704c5270c1d8e03f59',\n",
        "                '0xb9b1d15ee5db13fceb15129744d32dbc6b0705c1ad3e9d6e02ed2b910437cfd9',\n",
        "                '0x054de419b04d5621d355249d73490b13732f493a67a176c12ffd99a521e63c22',\n",
        "                '0x054de419b04d5621d355249d73490b13732f493a67a176c12ffd99a521e63c22'])"
      ]
    },
    {
      "cell_type": "code",
      "execution_count": 143,
      "metadata": {},
      "outputs": [
        {
          "data": {
            "text/html": [
              "<div>\n",
              "<style scoped>\n",
              "    .dataframe tbody tr th:only-of-type {\n",
              "        vertical-align: middle;\n",
              "    }\n",
              "\n",
              "    .dataframe tbody tr th {\n",
              "        vertical-align: top;\n",
              "    }\n",
              "\n",
              "    .dataframe thead th {\n",
              "        text-align: right;\n",
              "    }\n",
              "</style>\n",
              "<table border=\"1\" class=\"dataframe\">\n",
              "  <thead>\n",
              "    <tr style=\"text-align: right;\">\n",
              "      <th></th>\n",
              "      <th>Dapp</th>\n",
              "      <th>Business</th>\n",
              "    </tr>\n",
              "  </thead>\n",
              "  <tbody>\n",
              "    <tr>\n",
              "      <th>0</th>\n",
              "      <td>Compound</td>\n",
              "      <td>Lending</td>\n",
              "    </tr>\n",
              "    <tr>\n",
              "      <th>1</th>\n",
              "      <td>Alpha Finance Lab</td>\n",
              "      <td>Lending</td>\n",
              "    </tr>\n",
              "    <tr>\n",
              "      <th>2</th>\n",
              "      <td>Lido</td>\n",
              "      <td>Staking</td>\n",
              "    </tr>\n",
              "    <tr>\n",
              "      <th>3</th>\n",
              "      <td>Zapper.Fi</td>\n",
              "      <td>Staking</td>\n",
              "    </tr>\n",
              "    <tr>\n",
              "      <th>4</th>\n",
              "      <td>Aave</td>\n",
              "      <td>Lending</td>\n",
              "    </tr>\n",
              "    <tr>\n",
              "      <th>5</th>\n",
              "      <td>Wrapped Ether</td>\n",
              "      <td>Change to ERC-20 Standard</td>\n",
              "    </tr>\n",
              "    <tr>\n",
              "      <th>6</th>\n",
              "      <td>0x: Exchange Proxy</td>\n",
              "      <td>Arbitrage</td>\n",
              "    </tr>\n",
              "    <tr>\n",
              "      <th>7</th>\n",
              "      <td>FTX Exchange</td>\n",
              "      <td>Centralized cryptocurrency exchange specializi...</td>\n",
              "    </tr>\n",
              "  </tbody>\n",
              "</table>\n",
              "</div>"
            ],
            "text/plain": [
              "                 Dapp                                           Business\n",
              "0            Compound                                            Lending\n",
              "1   Alpha Finance Lab                                            Lending\n",
              "2                Lido                                            Staking\n",
              "3           Zapper.Fi                                            Staking\n",
              "4                Aave                                            Lending\n",
              "5       Wrapped Ether                          Change to ERC-20 Standard\n",
              "6  0x: Exchange Proxy                                          Arbitrage\n",
              "7        FTX Exchange  Centralized cryptocurrency exchange specializi..."
            ]
          },
          "execution_count": 143,
          "metadata": {},
          "output_type": "execute_result"
        }
      ],
      "source": [
        "dapp_business = pd.DataFrame({\n",
        "    'Dapp': ['Compound',\n",
        "             'Alpha Finance Lab',\n",
        "             'Lido',\n",
        "             'Zapper.Fi',\n",
        "             'Aave',\n",
        "             'Wrapped Ether',\n",
        "             '0x: Exchange Proxy',\n",
        "             'FTX Exchange'],\n",
        "    'Business': ['Lending',\n",
        "                 'Lending',\n",
        "                 'Staking',\n",
        "                 'Staking',\n",
        "                 'Lending',\n",
        "                 'Change to ERC-20 Standard',\n",
        "                 'Arbitrage',\n",
        "                 'Centralized cryptocurrency exchange specializing in derivatives and leveraged products']\n",
        "})\n",
        "\n",
        "dapp_business"
      ]
    },
    {
      "cell_type": "code",
      "execution_count": 144,
      "metadata": {},
      "outputs": [
        {
          "data": {
            "text/html": [
              "<div>\n",
              "<style scoped>\n",
              "    .dataframe tbody tr th:only-of-type {\n",
              "        vertical-align: middle;\n",
              "    }\n",
              "\n",
              "    .dataframe tbody tr th {\n",
              "        vertical-align: top;\n",
              "    }\n",
              "\n",
              "    .dataframe thead th {\n",
              "        text-align: right;\n",
              "    }\n",
              "</style>\n",
              "<table border=\"1\" class=\"dataframe\">\n",
              "  <thead>\n",
              "    <tr style=\"text-align: right;\">\n",
              "      <th></th>\n",
              "      <th>tx_hash</th>\n",
              "      <th>Dapp</th>\n",
              "      <th>Business</th>\n",
              "    </tr>\n",
              "  </thead>\n",
              "  <tbody>\n",
              "    <tr>\n",
              "      <th>0</th>\n",
              "      <td>0x0fa977057071d3fbc4fac314c2e0631db7a37139c2c8...</td>\n",
              "      <td>Compound</td>\n",
              "      <td>Lending</td>\n",
              "    </tr>\n",
              "    <tr>\n",
              "      <th>1</th>\n",
              "      <td>0x0c9d82073e7dec81f52c74b1949ea9a711b3965dc7dd...</td>\n",
              "      <td>Alpha Finance Lab</td>\n",
              "      <td>Lending</td>\n",
              "    </tr>\n",
              "    <tr>\n",
              "      <th>2</th>\n",
              "      <td>0xe91625f5087630e287f96ec9f7838c7e82b8eb820096...</td>\n",
              "      <td>Lido</td>\n",
              "      <td>Staking</td>\n",
              "    </tr>\n",
              "    <tr>\n",
              "      <th>3</th>\n",
              "      <td>0x3f22ff12f3895250efe623888b4919a1a9abdec617bf...</td>\n",
              "      <td>Lido</td>\n",
              "      <td>Staking</td>\n",
              "    </tr>\n",
              "    <tr>\n",
              "      <th>4</th>\n",
              "      <td>0xb64d741fbaa9ef6220807e6f45a230c5b8354e5f383e...</td>\n",
              "      <td>Alpha Finance Lab</td>\n",
              "      <td>Lending</td>\n",
              "    </tr>\n",
              "  </tbody>\n",
              "</table>\n",
              "</div>"
            ],
            "text/plain": [
              "                                             tx_hash               Dapp  \\\n",
              "0  0x0fa977057071d3fbc4fac314c2e0631db7a37139c2c8...           Compound   \n",
              "1  0x0c9d82073e7dec81f52c74b1949ea9a711b3965dc7dd...  Alpha Finance Lab   \n",
              "2  0xe91625f5087630e287f96ec9f7838c7e82b8eb820096...               Lido   \n",
              "3  0x3f22ff12f3895250efe623888b4919a1a9abdec617bf...               Lido   \n",
              "4  0xb64d741fbaa9ef6220807e6f45a230c5b8354e5f383e...  Alpha Finance Lab   \n",
              "\n",
              "  Business  \n",
              "0  Lending  \n",
              "1  Lending  \n",
              "2  Staking  \n",
              "3  Staking  \n",
              "4  Lending  "
            ]
          },
          "execution_count": 144,
          "metadata": {},
          "output_type": "execute_result"
        }
      ],
      "source": [
        "# join dapp business to transactions:\n",
        "tx_business = pd.merge(tx_dapp, dapp_business, how='left', on='Dapp')\n",
        "tx_business.head()"
      ]
    },
    {
      "cell_type": "code",
      "execution_count": 145,
      "metadata": {},
      "outputs": [],
      "source": [
        "# merge to the main dataset:\n",
        "df = pd.merge(df, tx_business, how='left', left_on='hash', right_on='tx_hash')"
      ]
    },
    {
      "cell_type": "code",
      "execution_count": 146,
      "metadata": {},
      "outputs": [],
      "source": [
        "df.to_csv('./data/user_data_final.csv')"
      ]
    },
    {
      "cell_type": "markdown",
      "metadata": {},
      "source": [
        "so by looking only on the biggest transactions, we can say that address providing liquidity for Staking and Lending (earning interest)  \n",
        "![](./pic/13_biggest_transactions_business.png)"
      ]
    },
    {
      "cell_type": "code",
      "execution_count": 147,
      "metadata": {},
      "outputs": [],
      "source": [
        "# transaction:\n",
        "tx_hash = '0x85a3c854972f313b6563832cb3dbeeef30523d76d09cbe51e1006d38b4888bb9'\n",
        "tx_url = make_api_url(module=\"transaction\", action=\"getstatus\", txhash=tx_hash)\n",
        "response = requests.get(tx_url)\n",
        "data_tx = response.json()"
      ]
    },
    {
      "cell_type": "code",
      "execution_count": 148,
      "metadata": {},
      "outputs": [
        {
          "data": {
            "text/plain": [
              "{'status': '1',\n",
              " 'message': 'OK',\n",
              " 'result': {'isError': '0', 'errDescription': ''}}"
            ]
          },
          "execution_count": 148,
          "metadata": {},
          "output_type": "execute_result"
        }
      ],
      "source": [
        "data_tx"
      ]
    },
    {
      "cell_type": "code",
      "execution_count": 149,
      "metadata": {},
      "outputs": [],
      "source": [
        "# transaction\n",
        "tx_hash = '0x85a3c854972f313b6563832cb3dbeeef30523d76d09cbe51e1006d38b4888bb9'\n",
        "tx_url = make_api_url(module=\"transaction\", action=\"gettxreceiptstatus\", txhash=tx_hash)\n",
        "response = requests.get(tx_url)\n",
        "data_tx = response.json()\n"
      ]
    },
    {
      "cell_type": "code",
      "execution_count": 150,
      "metadata": {},
      "outputs": [
        {
          "data": {
            "text/plain": [
              "{'status': '1', 'message': 'OK', 'result': {'status': '1'}}"
            ]
          },
          "execution_count": 150,
          "metadata": {},
          "output_type": "execute_result"
        }
      ],
      "source": [
        "data_tx"
      ]
    },
    {
      "cell_type": "code",
      "execution_count": 151,
      "metadata": {},
      "outputs": [
        {
          "data": {
            "text/plain": [
              "18.958750998205044"
            ]
          },
          "execution_count": 151,
          "metadata": {},
          "output_type": "execute_result"
        }
      ],
      "source": [
        "18958750998205045018 / 10**18"
      ]
    },
    {
      "cell_type": "code",
      "execution_count": 152,
      "metadata": {},
      "outputs": [
        {
          "data": {
            "text/plain": [
              "3081.0"
            ]
          },
          "execution_count": 152,
          "metadata": {},
          "output_type": "execute_result"
        }
      ],
      "source": [
        "\n",
        "3081000000000000000000 / 10**18"
      ]
    },
    {
      "cell_type": "code",
      "execution_count": null,
      "metadata": {},
      "outputs": [],
      "source": []
    },
    {
      "cell_type": "markdown",
      "metadata": {},
      "source": [
        "# ERC721 tokens (NFT)"
      ]
    },
    {
      "cell_type": "markdown",
      "metadata": {},
      "source": [
        "let's not check whether there are transactions of NFT in Address"
      ]
    },
    {
      "cell_type": "code",
      "execution_count": 153,
      "metadata": {},
      "outputs": [],
      "source": [
        "# nft:\n",
        "url = make_api_url(module=\"account\", action=\"tokennfttx\", address=user_1, page=1, offset=10000, startblock=0, endblock=9999999999, sort='asc')\n",
        "response = requests.get(url)\n",
        "data_nft = response.json()\n",
        "df_nft = df_from_response(data_nft)"
      ]
    },
    {
      "cell_type": "code",
      "execution_count": 154,
      "metadata": {},
      "outputs": [
        {
          "data": {
            "text/plain": [
              "Index(['blockNumber', 'timeStamp', 'hash', 'nonce', 'blockHash', 'from',\n",
              "       'contractAddress', 'to', 'tokenID', 'tokenName', 'tokenSymbol',\n",
              "       'tokenDecimal', 'transactionIndex', 'gas', 'gasPrice', 'gasUsed',\n",
              "       'cumulativeGasUsed', 'input', 'confirmations'],\n",
              "      dtype='object')"
            ]
          },
          "execution_count": 154,
          "metadata": {},
          "output_type": "execute_result"
        }
      ],
      "source": [
        "df_nft.columns"
      ]
    },
    {
      "cell_type": "code",
      "execution_count": null,
      "metadata": {},
      "outputs": [],
      "source": []
    },
    {
      "cell_type": "code",
      "execution_count": 155,
      "metadata": {},
      "outputs": [],
      "source": [
        "df_nft.loc[(df_nft['from'] == user_1) & (df_nft['to'] != user_1), 'is_sender'] = 1\n",
        "df_nft.loc[(df_nft['from'] != user_1) & (df_nft['to'] == user_1), 'is_sender'] = 0\n",
        "df_nft.loc[(df_nft['from'] == user_1) & (df_nft['to'] == user_1), 'is_sender'] = 999 # sender and receiver is the same\n",
        "\n",
        "# convert timestamp to datetime:\n",
        "df_nft['datetime'] = df_nft['timeStamp'].apply(lambda x: from_timestamp_to_date(x))\n",
        "# year month and day:\n",
        "df_nft['year'] = df_nft['datetime'].dt.year\n",
        "df_nft['month'] = df_nft['datetime'].dt.month\n",
        "df_nft['day'] = df_nft['datetime'].dt.day"
      ]
    },
    {
      "cell_type": "code",
      "execution_count": 156,
      "metadata": {},
      "outputs": [],
      "source": [
        "df_nft.to_csv('./data/nft_dataset.csv')"
      ]
    },
    {
      "cell_type": "markdown",
      "metadata": {},
      "source": [
        "![](./pic/14_nft_COUNT.png)"
      ]
    },
    {
      "cell_type": "markdown",
      "metadata": {},
      "source": [
        "- we can also see that the user buys NFT of famous brands like Rolex, Apple, Nike etc  \n",
        "- user sold only 1 NFT (tBTC deposit token) in 2 hours after user bought it:  \n",
        "![](./pic/15_tBTC_but_sell.png)"
      ]
    },
    {
      "cell_type": "code",
      "execution_count": 157,
      "metadata": {},
      "outputs": [
        {
          "data": {
            "text/plain": [
              "16   2022-03-14 23:05:05\n",
              "20   2022-03-21 23:54:44\n",
              "22   2022-03-22 00:54:51\n",
              "24   2022-03-22 22:43:55\n",
              "26   2022-03-23 21:05:31\n",
              "32   2022-03-24 20:53:25\n",
              "Name: datetime, dtype: datetime64[ns]"
            ]
          },
          "execution_count": 157,
          "metadata": {},
          "output_type": "execute_result"
        }
      ],
      "source": [
        "df_nft[df_nft['tokenName'] == 'Rolex']['datetime']"
      ]
    },
    {
      "cell_type": "markdown",
      "metadata": {},
      "source": [
        "Rolex NFT address bought within 1 month"
      ]
    },
    {
      "cell_type": "markdown",
      "metadata": {},
      "source": [
        "So, we can describe strategy of User in NFT as creating a Collection"
      ]
    },
    {
      "cell_type": "markdown",
      "metadata": {},
      "source": [
        "# ERC1155 tokens"
      ]
    },
    {
      "cell_type": "code",
      "execution_count": 158,
      "metadata": {},
      "outputs": [],
      "source": [
        "# nft:\n",
        "url = make_api_url(module=\"account\", action=\"token1155tx\", address=user_1, page=1, offset=10000, startblock=0, endblock=9999999999, sort='asc')\n",
        "response = requests.get(url)\n",
        "data_nft = response.json()\n",
        "df_erc1155 = df_from_response(data_nft)\n",
        "df_erc1155['datetime'] = df_erc1155['timeStamp'].apply(lambda x: from_timestamp_to_date(x))"
      ]
    },
    {
      "cell_type": "code",
      "execution_count": 159,
      "metadata": {},
      "outputs": [
        {
          "data": {
            "text/html": [
              "<div>\n",
              "<style scoped>\n",
              "    .dataframe tbody tr th:only-of-type {\n",
              "        vertical-align: middle;\n",
              "    }\n",
              "\n",
              "    .dataframe tbody tr th {\n",
              "        vertical-align: top;\n",
              "    }\n",
              "\n",
              "    .dataframe thead th {\n",
              "        text-align: right;\n",
              "    }\n",
              "</style>\n",
              "<table border=\"1\" class=\"dataframe\">\n",
              "  <thead>\n",
              "    <tr style=\"text-align: right;\">\n",
              "      <th></th>\n",
              "      <th>blockNumber</th>\n",
              "      <th>timeStamp</th>\n",
              "      <th>hash</th>\n",
              "      <th>nonce</th>\n",
              "      <th>blockHash</th>\n",
              "      <th>transactionIndex</th>\n",
              "      <th>gas</th>\n",
              "      <th>gasPrice</th>\n",
              "      <th>gasUsed</th>\n",
              "      <th>cumulativeGasUsed</th>\n",
              "      <th>input</th>\n",
              "      <th>contractAddress</th>\n",
              "      <th>from</th>\n",
              "      <th>to</th>\n",
              "      <th>tokenID</th>\n",
              "      <th>tokenValue</th>\n",
              "      <th>tokenName</th>\n",
              "      <th>tokenSymbol</th>\n",
              "      <th>confirmations</th>\n",
              "      <th>datetime</th>\n",
              "    </tr>\n",
              "  </thead>\n",
              "  <tbody>\n",
              "    <tr>\n",
              "      <th>0</th>\n",
              "      <td>11909231</td>\n",
              "      <td>1614028820</td>\n",
              "      <td>0xa432a3005fc1a9d6ac91cbf6f1e18397008bae28c995...</td>\n",
              "      <td>215</td>\n",
              "      <td>0x63d4a5bc48452583fee64fd11359b46b9ac282486548...</td>\n",
              "      <td>192</td>\n",
              "      <td>54497</td>\n",
              "      <td>210000000000</td>\n",
              "      <td>54497</td>\n",
              "      <td>11567580</td>\n",
              "      <td>deprecated</td>\n",
              "      <td>0xd07dc4262bcdbf85190c01c996b4c06a461d2430</td>\n",
              "      <td>0x7f67f31da8e1c2f64c62dce1d9d86039cf377ec5</td>\n",
              "      <td>0x99fd1378ca799ed6772fe7bcdc9b30b389518962</td>\n",
              "      <td>122756</td>\n",
              "      <td>1</td>\n",
              "      <td>Rarible</td>\n",
              "      <td>RARI</td>\n",
              "      <td>3107311</td>\n",
              "      <td>2021-02-23 07:20:20</td>\n",
              "    </tr>\n",
              "  </tbody>\n",
              "</table>\n",
              "</div>"
            ],
            "text/plain": [
              "  blockNumber   timeStamp                                               hash  \\\n",
              "0    11909231  1614028820  0xa432a3005fc1a9d6ac91cbf6f1e18397008bae28c995...   \n",
              "\n",
              "  nonce                                          blockHash transactionIndex  \\\n",
              "0   215  0x63d4a5bc48452583fee64fd11359b46b9ac282486548...              192   \n",
              "\n",
              "     gas      gasPrice gasUsed cumulativeGasUsed       input  \\\n",
              "0  54497  210000000000   54497          11567580  deprecated   \n",
              "\n",
              "                              contractAddress  \\\n",
              "0  0xd07dc4262bcdbf85190c01c996b4c06a461d2430   \n",
              "\n",
              "                                         from  \\\n",
              "0  0x7f67f31da8e1c2f64c62dce1d9d86039cf377ec5   \n",
              "\n",
              "                                           to tokenID tokenValue tokenName  \\\n",
              "0  0x99fd1378ca799ed6772fe7bcdc9b30b389518962  122756          1   Rarible   \n",
              "\n",
              "  tokenSymbol confirmations            datetime  \n",
              "0        RARI       3107311 2021-02-23 07:20:20  "
            ]
          },
          "execution_count": 159,
          "metadata": {},
          "output_type": "execute_result"
        }
      ],
      "source": [
        "df_erc1155"
      ]
    },
    {
      "cell_type": "markdown",
      "metadata": {},
      "source": [
        "In Feb 2022 user also bought token of Rarible NFT marketplace, which is a Govrernance token that gives holders right to influence Rarible development"
      ]
    },
    {
      "cell_type": "markdown",
      "metadata": {},
      "source": [
        "# Blocks Mined by Address:"
      ]
    },
    {
      "cell_type": "code",
      "execution_count": 160,
      "metadata": {},
      "outputs": [],
      "source": [
        "# mined:\n",
        "url = make_api_url(module=\"account\", action=\"getminedblocks\", address=user_1, blocktype='blocks',  page=1, offset=10000)\n",
        "response = requests.get(url)\n",
        "data_mined = response.json()"
      ]
    },
    {
      "cell_type": "code",
      "execution_count": 161,
      "metadata": {},
      "outputs": [
        {
          "data": {
            "text/plain": [
              "{'status': '0', 'message': 'No transactions found', 'result': []}"
            ]
          },
          "execution_count": 161,
          "metadata": {},
          "output_type": "execute_result"
        }
      ],
      "source": [
        "data_mined"
      ]
    },
    {
      "cell_type": "markdown",
      "metadata": {},
      "source": [
        "Therefore address is not a Miner"
      ]
    },
    {
      "cell_type": "code",
      "execution_count": 162,
      "metadata": {},
      "outputs": [],
      "source": [
        "# eth_getTransactionReceipt:\n",
        "txhash=tx_hash\n",
        "url = make_api_url(module=\"proxy\", action=\"eth_getTransactionReceipt\", txhash=txhash)\n",
        "response = requests.get(url)\n",
        "data = response.json()"
      ]
    },
    {
      "cell_type": "code",
      "execution_count": 163,
      "metadata": {},
      "outputs": [
        {
          "data": {
            "text/plain": [
              "{'jsonrpc': '2.0',\n",
              " 'id': 1,\n",
              " 'result': {'blockHash': '0xf1f579e6c1a5d334186d95593acc847bc327ca0cac076e8973f7bb8a7d1efa49',\n",
              "  'blockNumber': '0xb21ddb',\n",
              "  'contractAddress': None,\n",
              "  'cumulativeGasUsed': '0x90601c',\n",
              "  'effectiveGasPrice': '0xe6f7cec00',\n",
              "  'from': '0x99fd1378ca799ed6772fe7bcdc9b30b389518962',\n",
              "  'gasUsed': '0x2d251',\n",
              "  'logs': [{'address': '0x4ddc2d193948926d02f9b1fe9e1daa0718270ed5',\n",
              "    'topics': ['0x875352fb3fadeb8c0be7cbbe8ff761b308fa7033470cd0287f02f3436fd76cb9'],\n",
              "    'data': '0x000000000000000000000000000000000000000000000000003dcdfcf67a5be60000000000000000000000000000000000000000000000000e84cf52775390d1000000000000000000000000000000000000000000001b733fad62635c4e4226',\n",
              "    'blockNumber': '0xb21ddb',\n",
              "    'transactionHash': '0x85a3c854972f313b6563832cb3dbeeef30523d76d09cbe51e1006d38b4888bb9',\n",
              "    'transactionIndex': '0xb4',\n",
              "    'blockHash': '0xf1f579e6c1a5d334186d95593acc847bc327ca0cac076e8973f7bb8a7d1efa49',\n",
              "    'logIndex': '0xcb',\n",
              "    'removed': False},\n",
              "   {'address': '0x4ddc2d193948926d02f9b1fe9e1daa0718270ed5',\n",
              "    'topics': ['0x875352fb3fadeb8c0be7cbbe8ff761b308fa7033470cd0287f02f3436fd76cb9'],\n",
              "    'data': '0x00000000000000000000000000000000000000000000000000000000000000000000000000000000000000000000000000000000000000000e84cf52775390d1000000000000000000000000000000000000000000001b733fad62635c4e4226',\n",
              "    'blockNumber': '0xb21ddb',\n",
              "    'transactionHash': '0x85a3c854972f313b6563832cb3dbeeef30523d76d09cbe51e1006d38b4888bb9',\n",
              "    'transactionIndex': '0xb4',\n",
              "    'blockHash': '0xf1f579e6c1a5d334186d95593acc847bc327ca0cac076e8973f7bb8a7d1efa49',\n",
              "    'logIndex': '0xcc',\n",
              "    'removed': False},\n",
              "   {'address': '0x3d9819210a31b4961b30ef54be2aed79b9c9cd3b',\n",
              "    'topics': ['0x1fc3ecc087d8d2d15e23d0032af5a47059c3892d003d8e139fdcb6bb327c99a6',\n",
              "     '0x0000000000000000000000004ddc2d193948926d02f9b1fe9e1daa0718270ed5',\n",
              "     '0x00000000000000000000000099fd1378ca799ed6772fe7bcdc9b30b389518962'],\n",
              "    'data': '0x000000000000000000000000000000000000000000000001071b0395c918191a000000000000000000000000000000000013023c7a555289952e675409bf9b4f',\n",
              "    'blockNumber': '0xb21ddb',\n",
              "    'transactionHash': '0x85a3c854972f313b6563832cb3dbeeef30523d76d09cbe51e1006d38b4888bb9',\n",
              "    'transactionIndex': '0xb4',\n",
              "    'blockHash': '0xf1f579e6c1a5d334186d95593acc847bc327ca0cac076e8973f7bb8a7d1efa49',\n",
              "    'logIndex': '0xcd',\n",
              "    'removed': False},\n",
              "   {'address': '0x4ddc2d193948926d02f9b1fe9e1daa0718270ed5',\n",
              "    'topics': ['0x1a2a22cb034d26d1854bdc6666a5b91fe25efbbb5dcad3b0355478d6f5c362a1'],\n",
              "    'data': '0x000000000000000000000000f859a1ad94bcf445a406b892ef0d3082f417408800000000000000000000000099fd1378ca799ed6772fe7bcdc9b30b3895189620000000000000000000000000000000000000000000000a70576d829928400000000000000000000000000000000000000000000000005e2eefe9ea202344a50000000000000000000000000000000000000000000001acc3a368a39c9ca4226',\n",
              "    'blockNumber': '0xb21ddb',\n",
              "    'transactionHash': '0x85a3c854972f313b6563832cb3dbeeef30523d76d09cbe51e1006d38b4888bb9',\n",
              "    'transactionIndex': '0xb4',\n",
              "    'blockHash': '0xf1f579e6c1a5d334186d95593acc847bc327ca0cac076e8973f7bb8a7d1efa49',\n",
              "    'logIndex': '0xce',\n",
              "    'removed': False}],\n",
              "  'logsBloom': '0x40000000000000000000000000000020000000000010000000000000000000000000000000000000000000001002004000000000000000000000000000000000000000000000000000000000000000000000000000000000000000000000000000100000000000000000010000000000000000000000040000200000100000000000000000000000000000000000000000001000002000000000000000000800000200000000000000000000000000000000000000000001000000000000000000000000000000000000000000000000000000000000000000000000000000000000000000000000000000200000000000000000001000000000800400000004',\n",
              "  'status': '0x1',\n",
              "  'to': '0xf859a1ad94bcf445a406b892ef0d3082f4174088',\n",
              "  'transactionHash': '0x85a3c854972f313b6563832cb3dbeeef30523d76d09cbe51e1006d38b4888bb9',\n",
              "  'transactionIndex': '0xb4',\n",
              "  'type': '0x0'}}"
            ]
          },
          "execution_count": 163,
          "metadata": {},
          "output_type": "execute_result"
        }
      ],
      "source": [
        "data"
      ]
    },
    {
      "cell_type": "markdown",
      "metadata": {},
      "source": [
        "# Key Figures"
      ]
    },
    {
      "cell_type": "markdown",
      "metadata": {},
      "source": [
        "Talking about Key Figures, we consider:  \n",
        "- IBIT (income before tax)\n",
        "- PAT (profit after tax)\n",
        "- EVA (economic value added)\n",
        "- ROE (ROI) (Return on Investments)"
      ]
    },
    {
      "cell_type": "markdown",
      "metadata": {},
      "source": [
        "![](./pic/15_Key_figures_complex.png)"
      ]
    },
    {
      "cell_type": "markdown",
      "metadata": {},
      "source": [
        "this figure shows how Key figures are calculated for traditional Loan.  \n",
        "In case of Lending Schema in Ethereum network we will may apply the following assumptions:  \n",
        "- Risk Equity is 100% own investments of user (or this funds can also be taken from some financial institution, therefore interest on them should be considered)\n",
        "- User does not create Credit Hits as there are no regulations\n",
        "- Opex of user will be considered = 100, since financial services perform all required actions after deligation (borrow)"
      ]
    },
    {
      "cell_type": "markdown",
      "metadata": {},
      "source": [
        "In such conditions schema for calculating Key Figures will be significantly simplified:"
      ]
    },
    {
      "cell_type": "markdown",
      "metadata": {},
      "source": [
        "![](./pic/15_Key_figures_simplified.png)"
      ]
    },
    {
      "cell_type": "markdown",
      "metadata": {},
      "source": [
        "- EVA = PAT = IBIT = Interest Margin\n",
        "- Risk Equity = Initial Investments"
      ]
    },
    {
      "cell_type": "markdown",
      "metadata": {},
      "source": []
    },
    {
      "cell_type": "markdown",
      "metadata": {},
      "source": [
        "### Join methods"
      ]
    },
    {
      "cell_type": "code",
      "execution_count": 164,
      "metadata": {},
      "outputs": [],
      "source": [
        "df_methods = df_csv[['Txhash', 'Method']]"
      ]
    },
    {
      "cell_type": "code",
      "execution_count": 165,
      "metadata": {},
      "outputs": [
        {
          "data": {
            "text/html": [
              "<div>\n",
              "<style scoped>\n",
              "    .dataframe tbody tr th:only-of-type {\n",
              "        vertical-align: middle;\n",
              "    }\n",
              "\n",
              "    .dataframe tbody tr th {\n",
              "        vertical-align: top;\n",
              "    }\n",
              "\n",
              "    .dataframe thead th {\n",
              "        text-align: right;\n",
              "    }\n",
              "</style>\n",
              "<table border=\"1\" class=\"dataframe\">\n",
              "  <thead>\n",
              "    <tr style=\"text-align: right;\">\n",
              "      <th></th>\n",
              "      <th>timeStamp</th>\n",
              "      <th>hash</th>\n",
              "      <th>from</th>\n",
              "      <th>to</th>\n",
              "      <th>value</th>\n",
              "      <th>tx_fee</th>\n",
              "      <th>is_internal</th>\n",
              "      <th>datetime</th>\n",
              "      <th>year</th>\n",
              "      <th>month</th>\n",
              "      <th>day</th>\n",
              "      <th>is_sender</th>\n",
              "      <th>value_clean</th>\n",
              "      <th>tx_hash</th>\n",
              "      <th>Dapp</th>\n",
              "      <th>Business</th>\n",
              "    </tr>\n",
              "  </thead>\n",
              "  <tbody>\n",
              "    <tr>\n",
              "      <th>0</th>\n",
              "      <td>1596572493</td>\n",
              "      <td>0x4c3b415bb98370a9ef572567a4e13b61759763c08192...</td>\n",
              "      <td>0x04045a6c0a9f6ece044510c51b974400ade3ca5b</td>\n",
              "      <td>0x99fd1378ca799ed6772fe7bcdc9b30b389518962</td>\n",
              "      <td>1.0</td>\n",
              "      <td>0.000000</td>\n",
              "      <td>0</td>\n",
              "      <td>2020-08-05 06:21:33</td>\n",
              "      <td>2020</td>\n",
              "      <td>8</td>\n",
              "      <td>5</td>\n",
              "      <td>0.0</td>\n",
              "      <td>1.000000</td>\n",
              "      <td>NaN</td>\n",
              "      <td>NaN</td>\n",
              "      <td>NaN</td>\n",
              "    </tr>\n",
              "    <tr>\n",
              "      <th>1</th>\n",
              "      <td>1596572800</td>\n",
              "      <td>0xdf08f1b6048a3c151737d797c5a5da5892cff66dfdfd...</td>\n",
              "      <td>0x99fd1378ca799ed6772fe7bcdc9b30b389518962</td>\n",
              "      <td>0x6317c5e82a06e1d8bf200d21f4510ac2c038ac81</td>\n",
              "      <td>-0.1</td>\n",
              "      <td>0.014775</td>\n",
              "      <td>0</td>\n",
              "      <td>2020-08-05 06:26:40</td>\n",
              "      <td>2020</td>\n",
              "      <td>8</td>\n",
              "      <td>5</td>\n",
              "      <td>1.0</td>\n",
              "      <td>-0.114775</td>\n",
              "      <td>NaN</td>\n",
              "      <td>NaN</td>\n",
              "      <td>NaN</td>\n",
              "    </tr>\n",
              "  </tbody>\n",
              "</table>\n",
              "</div>"
            ],
            "text/plain": [
              "    timeStamp                                               hash  \\\n",
              "0  1596572493  0x4c3b415bb98370a9ef572567a4e13b61759763c08192...   \n",
              "1  1596572800  0xdf08f1b6048a3c151737d797c5a5da5892cff66dfdfd...   \n",
              "\n",
              "                                         from  \\\n",
              "0  0x04045a6c0a9f6ece044510c51b974400ade3ca5b   \n",
              "1  0x99fd1378ca799ed6772fe7bcdc9b30b389518962   \n",
              "\n",
              "                                           to  value    tx_fee  is_internal  \\\n",
              "0  0x99fd1378ca799ed6772fe7bcdc9b30b389518962    1.0  0.000000            0   \n",
              "1  0x6317c5e82a06e1d8bf200d21f4510ac2c038ac81   -0.1  0.014775            0   \n",
              "\n",
              "             datetime  year  month  day  is_sender  value_clean tx_hash Dapp  \\\n",
              "0 2020-08-05 06:21:33  2020      8    5        0.0     1.000000     NaN  NaN   \n",
              "1 2020-08-05 06:26:40  2020      8    5        1.0    -0.114775     NaN  NaN   \n",
              "\n",
              "  Business  \n",
              "0      NaN  \n",
              "1      NaN  "
            ]
          },
          "execution_count": 165,
          "metadata": {},
          "output_type": "execute_result"
        }
      ],
      "source": [
        "df.head(2)"
      ]
    },
    {
      "cell_type": "code",
      "execution_count": 166,
      "metadata": {},
      "outputs": [],
      "source": [
        "df = pd.merge(df, df_methods, how='left', left_on='hash', right_on='Txhash')"
      ]
    },
    {
      "cell_type": "code",
      "execution_count": 167,
      "metadata": {},
      "outputs": [],
      "source": [
        "df.to_csv('./data/user_data_final.csv')"
      ]
    },
    {
      "cell_type": "markdown",
      "metadata": {},
      "source": [
        "Now looking at the transactions with Methods and Dapps (Financial Institutions), we can say that Address uses **speculative strategy**, often Borrowing assets to then invest them into another project, sometime for a very short term"
      ]
    },
    {
      "cell_type": "markdown",
      "metadata": {},
      "source": [
        "this is best shown by the following graph:  \n",
        "![](./pic/16_Transactions_Strategy.png)"
      ]
    },
    {
      "cell_type": "markdown",
      "metadata": {},
      "source": [
        "Here we can see that within 1 day there are visible pattern of Pairs of Transactions:  \n",
        "for example:  \n",
        "- 8 Jan 2021 borrow 20 237 ETH from Compound\n",
        "- a minute later Lend exact same 20 237 ETH into Alpha Finance Lab  \n",
        "- repeat same pattern couple more times\n",
        "- 18 Jan 2021 (10 days) Withdraw from Alpha finance Lab to then ...\n",
        "- Pay Debt back to the Compound"
      ]
    },
    {
      "cell_type": "markdown",
      "metadata": {},
      "source": [
        "In such way Address Put Liquidity from Compound to Alpha Finance, logically to get higher interest and create Margin to earn ETH"
      ]
    },
    {
      "cell_type": "markdown",
      "metadata": {},
      "source": [
        "After, Lido Stacking, Zapper and Aave Lending also added to the Portfolio"
      ]
    }
  ],
  "metadata": {
    "colab": {
      "collapsed_sections": [],
      "name": "Тестовое_задание - XL.ipynb",
      "provenance": [],
      "toc_visible": true
    },
    "kernelspec": {
      "display_name": "Python 3.10.4 64-bit",
      "language": "python",
      "name": "python3"
    },
    "language_info": {
      "codemirror_mode": {
        "name": "ipython",
        "version": 3
      },
      "file_extension": ".py",
      "mimetype": "text/x-python",
      "name": "python",
      "nbconvert_exporter": "python",
      "pygments_lexer": "ipython3",
      "version": "3.10.4"
    },
    "vscode": {
      "interpreter": {
        "hash": "26de051ba29f2982a8de78e945f0abaf191376122a1563185a90213a26c5da77"
      }
    }
  },
  "nbformat": 4,
  "nbformat_minor": 0
}
